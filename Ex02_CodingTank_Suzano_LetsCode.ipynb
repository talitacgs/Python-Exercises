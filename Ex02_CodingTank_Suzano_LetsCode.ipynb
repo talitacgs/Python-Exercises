{
  "nbformat": 4,
  "nbformat_minor": 0,
  "metadata": {
    "colab": {
      "name": "Ex02_CodingTank_Suzano_LetsCode.ipynb",
      "provenance": [],
      "authorship_tag": "ABX9TyMIT2nldWBw7v3N3CfcKvx1",
      "include_colab_link": true
    },
    "kernelspec": {
      "name": "python3",
      "display_name": "Python 3"
    },
    "language_info": {
      "name": "python"
    }
  },
  "cells": [
    {
      "cell_type": "markdown",
      "metadata": {
        "id": "view-in-github",
        "colab_type": "text"
      },
      "source": [
        "<a href=\"https://colab.research.google.com/github/talitacgs/Python-Exercises/blob/main/Ex02_CodingTank_Suzano_LetsCode.ipynb\" target=\"_parent\"><img src=\"https://colab.research.google.com/assets/colab-badge.svg\" alt=\"Open In Colab\"/></a>"
      ]
    },
    {
      "cell_type": "markdown",
      "source": [
        "01. Faça um programa que peça a idade da pessoa e imprima se ela é maior ou menor de 18 anos."
      ],
      "metadata": {
        "id": "Ac0cZEt4QUUD"
      }
    },
    {
      "cell_type": "code",
      "execution_count": null,
      "metadata": {
        "colab": {
          "base_uri": "https://localhost:8080/"
        },
        "id": "nvOYWJNZQOb7",
        "outputId": "2225bf67-5949-4bc0-b128-e907567a57c1"
      },
      "outputs": [
        {
          "output_type": "stream",
          "name": "stdout",
          "text": [
            "Digite sua idade: 18\n",
            "Você é maior de idade\n"
          ]
        }
      ],
      "source": [
        "age = int(input(\"Digite sua idade: \"))\n",
        "\n",
        "if age >= 18:\n",
        "  print(\"Você é maior de idade\")\n",
        "else:\n",
        "  print(\"Você é menor de idade\")"
      ]
    },
    {
      "cell_type": "markdown",
      "source": [
        "02. Faça um programa que peça um número e mostre se ele é positivo ou negativo"
      ],
      "metadata": {
        "id": "KUB1j4w9RGbf"
      }
    },
    {
      "cell_type": "code",
      "source": [
        "number = float(input(\"Digite um número: \"))\n",
        "\n",
        "if number > 0:\n",
        "  print(\"Número positivo\")\n",
        "elif number < 0:\n",
        "  print(\"Número negativo\")\n",
        "else:\n",
        "  print(\"Zero não é positivo nem negativo\")"
      ],
      "metadata": {
        "colab": {
          "base_uri": "https://localhost:8080/"
        },
        "id": "V0q4hyJyRH2O",
        "outputId": "294c1481-9a1d-456c-8264-734f6223f759"
      },
      "execution_count": null,
      "outputs": [
        {
          "output_type": "stream",
          "name": "stdout",
          "text": [
            "Digite um número: -2.6\n",
            "Número negativo\n"
          ]
        }
      ]
    },
    {
      "cell_type": "markdown",
      "source": [
        "03. Faça um programa que peça dois números e mostre o maior deles.\n"
      ],
      "metadata": {
        "id": "yWwHwNCYR05a"
      }
    },
    {
      "cell_type": "code",
      "source": [
        "first_number = float(input(\"Digite um número: \"))\n",
        "second_number = float(input(\"Digite um número: \"))\n",
        "\n",
        "if first_number > second_number:\n",
        "  print(f\"O maior número é {first_number}\")\n",
        "elif second_number > first_number:\n",
        "  print(f\"O maior número é {second_number}\")\n",
        "else:\n",
        "  print(\"Os números são iguais\")"
      ],
      "metadata": {
        "colab": {
          "base_uri": "https://localhost:8080/"
        },
        "id": "u7OHUUz_R2MA",
        "outputId": "72ac4e53-0347-4515-d6c4-a668bfa31344"
      },
      "execution_count": null,
      "outputs": [
        {
          "output_type": "stream",
          "name": "stdout",
          "text": [
            "Digite um número: 9\n",
            "Digite um número: 25\n",
            "O maior número é 25.0\n"
          ]
        }
      ]
    },
    {
      "cell_type": "markdown",
      "source": [
        "04. Escreva um programa que peça a nota de 3 provas de um aluno e mostre se ele passou ou não de ano.\n",
        "\n",
        "Obs.: O aluno irá passar de ano se a média das suas notas for maior ou igual a 6 (média é a soma das notas dividido pelo número de provas)."
      ],
      "metadata": {
        "id": "a4nWDN67SufF"
      }
    },
    {
      "cell_type": "code",
      "source": [
        "first_score = float(input(\"Digite a primeira nota: \"))\n",
        "second_score = float(input(\"Digite a segunda nota: \"))\n",
        "third_score = float(input(\"Digite a terceira nota: \"))\n",
        "\n",
        "average = (first_score + second_score + third_score)/3\n",
        "\n",
        "if average >= 6:\n",
        "  print(f\"Aprovado com média {average}\")\n",
        "else:\n",
        "  print(f\"Reprovado com média {average}\")\n"
      ],
      "metadata": {
        "colab": {
          "base_uri": "https://localhost:8080/"
        },
        "id": "jKm_fTTsSw9l",
        "outputId": "181f8f6c-497c-46de-d62c-1a2485577837"
      },
      "execution_count": null,
      "outputs": [
        {
          "output_type": "stream",
          "name": "stdout",
          "text": [
            "Digite a primeira nota: 2\n",
            "Digite a segunda nota: 9.6\n",
            "Digite a terceira nota: 3.4\n",
            "Reprovado com média 5.0\n"
          ]
        }
      ]
    },
    {
      "cell_type": "markdown",
      "source": [
        "5. Faça um programa que mostre uma questão de múltipla escolha com 5 opções (letras a, b, c, d, e). Sabendo a resposta certa, o programa deve receber a opção do usuário e informar a letra que o usuário marcou e se a resposta está certa ou errada."
      ],
      "metadata": {
        "id": "eyi4ELzwUIi-"
      }
    },
    {
      "cell_type": "code",
      "source": [
        "answer = input(\"O Brasil está localizado em qual continente ? a) Europa b) Ásia c) América d) Oceania e) África \").lower()\n",
        "\n",
        "if answer != \"c\":\n",
        "  print(\"Resposta errada\")\n",
        "else: \n",
        "  print(\"Resposta correta\")"
      ],
      "metadata": {
        "colab": {
          "base_uri": "https://localhost:8080/"
        },
        "id": "QFh2FvFAULCc",
        "outputId": "43eb8f21-c555-4fb9-8419-a37a262a92c4"
      },
      "execution_count": null,
      "outputs": [
        {
          "output_type": "stream",
          "name": "stdout",
          "text": [
            "O Brasil está localizado em qual continente ? a) Europa b) Ásia c) América d) Oceania e) África C\n",
            "Resposta correta\n"
          ]
        }
      ]
    },
    {
      "cell_type": "markdown",
      "source": [
        "06. Vamos fazer um programa para verificar quem é o assassino de um crime. Para descobrir o assassino, a polícia faz um pequeno questionário com 5 perguntas onde a resposta só pode ser sim ou não:\n",
        "\n",
        "a. Mora perto da vítima?\n",
        "\n",
        "b. Já trabalhou com a vítima?\n",
        "\n",
        "c. Telefonou para a vítima?\n",
        "\n",
        "d. Esteve no local do crime?\n",
        "\n",
        "e. Devia para a vítima?\n",
        "\n",
        "Cada resposta sim dá um ponto para o suspeito. A polícia considera que os suspeitos com 5 pontos são os assassinos, com 4 a 3 pontos são cúmplices e 2 pontos são apenas suspeitos, necessitando outras investigações. Valores abaixo de 1 são liberados."
      ],
      "metadata": {
        "id": "OpOpLDkzYpy6"
      }
    },
    {
      "cell_type": "code",
      "source": [
        "contador = 0\n",
        "\n",
        "question_a = input(\"Mora perto da vítima? Digite s ou n \").lower()\n",
        "if question_a == \"s\":\n",
        "  contador += 1\n",
        "\n",
        "question_b = input(\"Já trabalhou com a vítima? Digite s ou n \").lower()\n",
        "if question_b == \"s\":\n",
        "  contador += 1\n",
        "\n",
        "question_c = input(\"Telefonou para a vítima? Digite s ou n \").lower()\n",
        "if question_c == \"s\":\n",
        "  contador += 1\n",
        "\n",
        "question_d = input(\"Esteve no local do crime? Digite s ou n \").lower()\n",
        "if question_d == \"s\":\n",
        "  contador += 1\n",
        "\n",
        "question_e = input(\"Devia para a vítima? Digite s ou n \").lower()\n",
        "if question_e == \"s\":\n",
        "  contador += 1\n",
        "\n",
        "if contador > 4:\n",
        "  print(\"Assassino\")\n",
        "elif contador > 2:\n",
        "  print(\"Cúmplice\")\n",
        "elif contador > 1:\n",
        "  print(\"Suspeito\")\n",
        "else:\n",
        "  print(\"Liberado\")"
      ],
      "metadata": {
        "colab": {
          "base_uri": "https://localhost:8080/"
        },
        "id": "-YI89YvGYs-m",
        "outputId": "cfeefac7-6b1e-48e1-987b-949e3b4140e4"
      },
      "execution_count": null,
      "outputs": [
        {
          "output_type": "stream",
          "name": "stdout",
          "text": [
            "Mora perto da vítima? Digite s ou n s\n",
            "Já trabalhou com a vítima? Digite s ou n s\n",
            "Telefonou para a vítima? Digite s ou n s\n",
            "Esteve no local do crime? Digite s ou n s\n",
            "Devia para a vítima? Digite s ou n n\n",
            "Cúmplice\n"
          ]
        }
      ]
    },
    {
      "cell_type": "markdown",
      "source": [
        "07. Faça um programa em que o usuário tem que adivinhar o número escolhido pelo computador. O computador deve sortear um número inteiro de 1 a 5 e pedir para o usuário tentar descobrir qual o número sorteado. Após o usuário digitar sua resposta, o programa deve dizer se ele acertou ou não. Dica: para sortear um número, você precisará utilizar a biblioteca random."
      ],
      "metadata": {
        "id": "rrIimF65aY4F"
      }
    },
    {
      "cell_type": "code",
      "source": [
        "import random\n",
        "\n",
        "number = random.randint(1,5)\n",
        "\n",
        "number_user = int(input(\"O número é: \"))\n",
        "\n",
        "if number_user == number:\n",
        "  print(f\"Acertou, o número é {number}\")\n",
        "else:\n",
        "  print(f\"Errou, o número é {number}\")"
      ],
      "metadata": {
        "colab": {
          "base_uri": "https://localhost:8080/"
        },
        "id": "Oc6tmupdad07",
        "outputId": "a9e69c74-8be3-43a1-b88c-40c7e1dcbba0"
      },
      "execution_count": null,
      "outputs": [
        {
          "output_type": "stream",
          "name": "stdout",
          "text": [
            "O número é: 3\n",
            "Errou, o número é 5\n"
          ]
        }
      ]
    },
    {
      "cell_type": "markdown",
      "source": [
        "08. Vamos fazer um radar eletrônico de velocidade. Faça um programa que leia a velocidade de um carro, e diga se ele está acima ou não da velocidade permitida de 50 km/h. Se o carro estiver acima da velocidade, o programa deve imprimir que o motorista ultrapassou a velocidade permitida e recebeu uma multa num determinado valor. Para calcular o valor da multa, considere que para cada quilômetro acima da velocidade permitida, o motorista deve pagar 10 reais."
      ],
      "metadata": {
        "id": "ufXZ5S3IbUSI"
      }
    },
    {
      "cell_type": "code",
      "source": [
        "speed = float(input(\"Digite a velocidade do carro em km/h \"))\n",
        "\n",
        "if speed > 50:\n",
        "  pay = (speed - 50) * 10\n",
        "  print(f\"Você ultrapassou o limite de velocidade. Sua multa será de R$ {pay} reais\")"
      ],
      "metadata": {
        "colab": {
          "base_uri": "https://localhost:8080/"
        },
        "id": "akzvGgEnbSxW",
        "outputId": "cb3eed11-7611-4226-8ae2-11ab59b94cf2"
      },
      "execution_count": null,
      "outputs": [
        {
          "output_type": "stream",
          "name": "stdout",
          "text": [
            "Digite a velocidade do carro em km/h 53\n",
            "Você ultrapassou o limite de velocidade. Sua multa será de R$ 30.0 reais\n"
          ]
        }
      ]
    },
    {
      "cell_type": "markdown",
      "source": [
        "09. Com a recomendação que as pessoas fiquem em casa e evitem aglomerações como medida pra frear a contaminação pelo coronavírus, como saber quando devemos procurar um hospital? Faça um programa que pergunte os sintomas que a pessoa apresenta e responda se ela deve ou não procurar um hospital.\n",
        "\n",
        "Sintomas: a. Você tem febre persistente? b. Você tem dificuldade para respirar?\n",
        "\n",
        "A resposta do programa deve seguir a seguinte tabela:\n",
        "\n",
        "A\tB\tResultado\n",
        "Sim\tNão\tFique em casa\n",
        "Não\tSim\tFique em casa\n",
        "Não\tNão\tFique em casa\n",
        "Sim\tSim\tProcure um hospital\n"
      ],
      "metadata": {
        "id": "9ZHehsqwcO3e"
      }
    },
    {
      "cell_type": "code",
      "source": [
        "answer_a = input(\"Digite sim ou não. Você tem febre persistente? \").lower()\n",
        "answer_b = input(\"Digite sim ou não. Você tem dificuldade para respirar? \").lower()\n",
        "\n",
        "if answer_a == 'sim' and answer_b == 'nao':\n",
        "  print(\"Fique em casa\")\n",
        "elif answer_a == 'nao' and answer_b == 'sim':\n",
        "  print(\"Fique em casa\")\n",
        "elif answer_a == 'nao' and answer_b == 'nao':\n",
        "  print(\"Fique em casa\")\n",
        "else:\n",
        "  print(\"Procure um hospital\")"
      ],
      "metadata": {
        "colab": {
          "base_uri": "https://localhost:8080/"
        },
        "id": "u49wVGR4cSXv",
        "outputId": "1a1dde93-1bfa-4b52-ed2d-b86dd608d844"
      },
      "execution_count": null,
      "outputs": [
        {
          "output_type": "stream",
          "name": "stdout",
          "text": [
            "Digite sim ou não. Você tem febre persistente? nao\n",
            "Digite sim ou não. Você tem dificuldade para respirar? nao\n",
            "Fique em casa\n"
          ]
        }
      ]
    },
    {
      "cell_type": "code",
      "source": [
        "questao = (input(\"Escolha a alternativa correta: \\n A) \\n B) \\n C) \\n D) \\n E) \\n\"))\n",
        "# Resposta = 'c'\n",
        "\n",
        "if questao != 'c':\n",
        "  print(\"A sua resposta está incorreto.\")\n",
        "else:\n",
        "  print(\"A sua resposta está correto.\")"
      ],
      "metadata": {
        "colab": {
          "base_uri": "https://localhost:8080/"
        },
        "id": "b-ThSBMe3ufs",
        "outputId": "c750ec0b-101b-4a91-ee62-ded19249ab4f"
      },
      "execution_count": 2,
      "outputs": [
        {
          "output_type": "stream",
          "name": "stdout",
          "text": [
            "Escolha a alternativa correta: \n",
            " A) \n",
            " B) \n",
            " C) \n",
            " D) \n",
            " E) \n",
            "c\n",
            "A sua resposta está correto.\n"
          ]
        }
      ]
    }
  ]
}