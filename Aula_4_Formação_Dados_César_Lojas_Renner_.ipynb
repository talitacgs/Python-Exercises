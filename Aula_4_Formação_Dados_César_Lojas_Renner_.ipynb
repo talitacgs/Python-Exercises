{
  "nbformat": 4,
  "nbformat_minor": 0,
  "metadata": {
    "colab": {
      "name": "Aula 4 - Formação Dados César/Lojas Renner .ipynb",
      "provenance": [],
      "collapsed_sections": [],
      "toc_visible": true,
      "authorship_tag": "ABX9TyM8/r/Juf+26+XfNyOpmZkR",
      "include_colab_link": true
    },
    "kernelspec": {
      "name": "python3",
      "display_name": "Python 3"
    },
    "language_info": {
      "name": "python"
    }
  },
  "cells": [
    {
      "cell_type": "markdown",
      "metadata": {
        "id": "view-in-github",
        "colab_type": "text"
      },
      "source": [
        "<a href=\"https://colab.research.google.com/github/talitacgs/Python-Exercises/blob/main/Aula_4_Forma%C3%A7%C3%A3o_Dados_C%C3%A9sar_Lojas_Renner_.ipynb\" target=\"_parent\"><img src=\"https://colab.research.google.com/assets/colab-badge.svg\" alt=\"Open In Colab\"/></a>"
      ]
    },
    {
      "cell_type": "markdown",
      "source": [
        "#Exercícios Fundamentais 4 "
      ],
      "metadata": {
        "id": "xw-mkYi3VMe3"
      }
    },
    {
      "cell_type": "code",
      "execution_count": null,
      "metadata": {
        "colab": {
          "base_uri": "https://localhost:8080/"
        },
        "id": "9x99bczHVDjh",
        "outputId": "29de9e90-3795-427c-ad64-9e3f2f5d1ab9"
      },
      "outputs": [
        {
          "output_type": "stream",
          "name": "stdout",
          "text": [
            "Digite um valor:-3\n",
            "Erro\n"
          ]
        }
      ],
      "source": [
        "#1. Crie uma função que recebe um valor inteiro e avalie se ele é positivo ou negativo.\n",
        "#Em caso negativo a função deve imprimir \"Erro\", em caso positivo a função deve multiplicar o numero por 5 e retorna-lo.\n",
        "\n",
        "def avaliacao_sinal():\n",
        "  valor = int(input('Digite um valor:'))\n",
        "\n",
        "  if(valor<0):\n",
        "    print('Erro')\n",
        "  else:\n",
        "    print(valor*5)\n",
        "\n",
        "avaliacao_sinal()"
      ]
    },
    {
      "cell_type": "code",
      "source": [
        "#2. Crie uma função que receba uma lista de números inteiros e exiba todos\n",
        "# os valores multiplicados por um valor inserido pelo usuário.\n",
        "\n",
        "lista =[1,2,4,5,6,7]\n",
        "valor = int(input('Digite um valor:'))\n",
        "\n",
        "def multiplica(lista_num,valor_inserido):\n",
        "  for i in lista_num:\n",
        "    print(i*valor_inserido)\n",
        "\n",
        "multiplica(lista,valor)"
      ],
      "metadata": {
        "colab": {
          "base_uri": "https://localhost:8080/"
        },
        "id": "i8ionUB9VgBT",
        "outputId": "8cbf78d5-ae4e-48a1-83fa-ffe76a0c18dd"
      },
      "execution_count": null,
      "outputs": [
        {
          "output_type": "stream",
          "name": "stdout",
          "text": [
            "Digite um valor2\n",
            "2\n",
            "4\n",
            "8\n",
            "10\n",
            "12\n",
            "14\n"
          ]
        }
      ]
    },
    {
      "cell_type": "code",
      "source": [
        "#3. Faça o exercicio 2 usando map e lambda\n",
        "\n",
        "lista =[1,2,4,5,6,7]\n",
        "valor = int(input('Digite um valor:'))\n",
        "\n",
        "def multiplica(lista_num, valor_inserido):\n",
        "  for i in list(map(lambda x: x * valor_inserido, lista_num)):\n",
        "    print(i)\n",
        "\n",
        "multiplica(lista,valor)"
      ],
      "metadata": {
        "colab": {
          "base_uri": "https://localhost:8080/"
        },
        "id": "yyrx3xLDVmV5",
        "outputId": "4c96183a-ecf8-44dd-ba51-867e0de77eb7"
      },
      "execution_count": null,
      "outputs": [
        {
          "output_type": "stream",
          "name": "stdout",
          "text": [
            "Digite um valor:2\n",
            "2\n",
            "4\n",
            "8\n",
            "10\n",
            "12\n",
            "14\n"
          ]
        }
      ]
    },
    {
      "cell_type": "code",
      "source": [
        "#4. Crie um programa que receba do usuário 5 números inteiros e os exiba na tela na ordem contrária ao que foi inserido.\n",
        "# A leitura dos números deve ser feita em uma função e a exibição dos valores em ordem contrária deve ocorrer em outra função.\n",
        "\n",
        "def leitura_num():\n",
        "  num=[]\n",
        "  for _ in range(5):\n",
        "    num.append(int(input('Digite um número:')))\n",
        "  return num\n",
        "\n",
        "def exibicao(lista):\n",
        "  \n",
        "  lista.reverse()\n",
        "  print(lista)\n",
        "\n",
        "exibicao(leitura_num())\n"
      ],
      "metadata": {
        "colab": {
          "base_uri": "https://localhost:8080/"
        },
        "id": "HjCcsHSXVr-Q",
        "outputId": "64e0ca7b-bd93-4f52-f7c8-f410f8fa770b"
      },
      "execution_count": null,
      "outputs": [
        {
          "output_type": "stream",
          "name": "stdout",
          "text": [
            "Digite um número:1\n",
            "Digite um número:2\n",
            "Digite um número:3\n",
            "Digite um número:4\n",
            "Digite um número:5\n",
            "[5, 4, 3, 2, 1]\n"
          ]
        }
      ]
    },
    {
      "cell_type": "code",
      "source": [
        "#5. Crie um programa que pede ao usuário para insirir um nome. \n",
        "#Passe esse nome para uma função que deve retornar se esse nome existe\n",
        "# ou não na lista de nomes convidados = [\"Eduardo\", \"Ivan\", \"Paloma\", \"Andrea\"].\n",
        "#Letras maiusculas ou minusculas não devem importar, \n",
        "#se o usuario digitar \"eduardo\" a função deve retornar que o nome existe na lista.\n",
        "\n",
        "nome = input('Digite um nome:')\n",
        "\n",
        "def nome_existe(nome):\n",
        "  lista = ['Eduardo','Ivan','Paloma','Andrea']\n",
        "  resultado = nome.upper() in list(map(lambda x: x.upper(),lista))\n",
        "  \n",
        "  if (resultado == 0):\n",
        "    print('Nome não existe')\n",
        "  else:\n",
        "    print('Nome existe na lista')\n",
        "\n",
        "nome_existe(nome)"
      ],
      "metadata": {
        "colab": {
          "base_uri": "https://localhost:8080/"
        },
        "id": "-L5Yl4EMVxPB",
        "outputId": "932f220b-e68d-4f58-8b3a-0608414f6f43"
      },
      "execution_count": null,
      "outputs": [
        {
          "output_type": "stream",
          "name": "stdout",
          "text": [
            "Digite um nome:paloMa\n",
            "Nome existe na lista\n"
          ]
        }
      ]
    }
  ]
}