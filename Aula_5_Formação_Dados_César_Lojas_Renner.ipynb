{
  "nbformat": 4,
  "nbformat_minor": 0,
  "metadata": {
    "colab": {
      "name": "Aula 5 - Formação Dados César/Lojas Renner.ipynb",
      "provenance": [],
      "collapsed_sections": [],
      "authorship_tag": "ABX9TyNbGHdmBjdjHRQ23k7z0Agz",
      "include_colab_link": true
    },
    "kernelspec": {
      "name": "python3",
      "display_name": "Python 3"
    },
    "language_info": {
      "name": "python"
    }
  },
  "cells": [
    {
      "cell_type": "markdown",
      "metadata": {
        "id": "view-in-github",
        "colab_type": "text"
      },
      "source": [
        "<a href=\"https://colab.research.google.com/github/talitacgs/Python-Exercises/blob/main/Aula_5_Forma%C3%A7%C3%A3o_Dados_C%C3%A9sar_Lojas_Renner.ipynb\" target=\"_parent\"><img src=\"https://colab.research.google.com/assets/colab-badge.svg\" alt=\"Open In Colab\"/></a>"
      ]
    },
    {
      "cell_type": "markdown",
      "source": [
        "#Exercícios Complementares"
      ],
      "metadata": {
        "id": "jY293b_hKs_R"
      }
    },
    {
      "cell_type": "code",
      "execution_count": null,
      "metadata": {
        "colab": {
          "base_uri": "https://localhost:8080/"
        },
        "id": "ihFBdkqpKmo_",
        "outputId": "25feb6d3-5578-45ff-e521-9eac7955b6d6"
      },
      "outputs": [
        {
          "output_type": "stream",
          "name": "stdout",
          "text": [
            "Quanto você ganha por hora ?18.90\n",
            "Quantas horas você trabalhou no mês ?176\n",
            "Salário Bruto: 3326.40 INSS: 266.11 Sindicato 166.32 Salário Líquido: 2528.06\n"
          ]
        }
      ],
      "source": [
        "#1. Faça um programa que pergunte quanto você ganha por hora e o número de horas trabalhadas no mês.\n",
        "#Calcule e mostre o total do seu salário no referido mês, \n",
        "#sabendo-se que são descontados 11% para o Imposto de Renda, 8% para o INSS e 5% para o sindicato, \n",
        "#faça um programa que nos dê:\n",
        "\n",
        "#salário bruto.\n",
        "#quanto pagou ao INSS.\n",
        "#quanto pagou ao sindicato.\n",
        "#o salário líquido.\n",
        "\n",
        "#calcule os descontos e o salário líquido, conforme informação abaixo:\n",
        "#Salário Bruto - IR (11%) - INSS (8%) - Sindicato ( 5%) = Salário Liquido\n",
        "\n",
        "hora_homem = float(input('Quanto você ganha por hora ?'))\n",
        "hora_mes = float(input('Quantas horas você trabalhou no mês ?'))\n",
        "salario_bruto = hora_homem * hora_mes\n",
        "inss = salario_bruto * 0.08\n",
        "sindicato = salario_bruto * 0.05\n",
        "ir = salario_bruto * 0.11\n",
        "salario_liquido = salario_bruto - inss - sindicato - ir\n",
        "\n",
        "print('Salário Bruto:','{:.2f}'.format(salario_bruto),'INSS:','{:.2f}'.format(inss),'Sindicato','{:.2f}'.format(sindicato),'Salário Líquido:','{:.2f}'.format(salario_liquido))\n",
        "\n",
        " "
      ]
    },
    {
      "cell_type": "code",
      "source": [
        "#2. Faça um programa que peça o tamanho de um arquivo para download (em MB) e a\n",
        "# velocidade de um link de Internet (em Mbps), \n",
        "#calcule e informe o tempo aproximado de download do arquivo usando este link (em minutos)\n",
        "\n",
        "download = float(input('Digite o tamanho do arquivo em megabyte (MB):'))\n",
        "velocidade = float(input('Digite a velocidade de um link de Internet em megabit por segundo (Mbps):'))\n",
        "\n",
        "conversao = download * 8 \n",
        "\n",
        "tempo = conversao / velocidade / 60\n",
        "\n",
        "print('Tempo para download é', '{:.3f}'.format(tempo), 'minutos')\n"
      ],
      "metadata": {
        "colab": {
          "base_uri": "https://localhost:8080/"
        },
        "id": "p8uzjCa4LDk0",
        "outputId": "dd773a24-a662-462b-e4cc-1476d56b350f"
      },
      "execution_count": null,
      "outputs": [
        {
          "output_type": "stream",
          "name": "stdout",
          "text": [
            "Digite o tamanho do arquivo em megabyte (MB):1024\n",
            "Digite a velocidade de um link de Internet em megabit por segundo (Mbps):12\n",
            "Tempo para download é 11.378 minutos\n"
          ]
        }
      ]
    },
    {
      "cell_type": "code",
      "source": [
        "#3. João Papo-de-Pescador, homem de bem, comprou um microcomputador para controlar o rendimento diário de seu trabalho. \n",
        "#Toda vez que ele traz um peso de peixes maior que o estabelecido pelo regulamento de pesca do estado de São Paulo (50 quilos)\n",
        "# deve pagar uma multa de R$ 4,00 por quilo excedente. \n",
        "#João precisa que você faça um programa que leia a variável peso (peso de peixes) e calcule o excesso. \n",
        "#Gravar na variável excesso a quantidade de quilos além do limite e \n",
        "#na variável multa o valor da multa que João deverá pagar. Imprima os dados do programa com as mensagens adequadas.\n",
        "\n",
        "peso = float(input('João, quanto pesa os seus peixes ?'))\n",
        "multa = (peso - 50) * 4\n",
        "\n",
        "if (peso<=0):\n",
        "  print('João, o que aconteceu?')\n",
        "else:\n",
        "  if (multa > 0):\n",
        "    print('Seus peixes pesam', peso, 'Kg e sua multa é de','{:.2f}'.format(multa),'reais')\n",
        "  else:\n",
        "    print('Não há multas, parabéns!')"
      ],
      "metadata": {
        "colab": {
          "base_uri": "https://localhost:8080/"
        },
        "id": "2NHrgEIULPWX",
        "outputId": "f59779a7-e670-4a24-bce1-0b337c0bc535"
      },
      "execution_count": null,
      "outputs": [
        {
          "output_type": "stream",
          "name": "stdout",
          "text": [
            "João, quanto pesa os seus peixes ?56\n",
            "Seus peixes pesam 56.0 Kg e sua multa é de 24.00 reais\n"
          ]
        }
      ]
    },
    {
      "cell_type": "code",
      "source": [
        "#4. Faça um programa para uma loja de tintas. O programa deverá pedir o tamanho em metros quadrados da área a ser pintada. \n",
        "#Considere que a cobertura da tinta é de 1 litro para cada 3 metros quadrados e \n",
        "#que a tinta é vendida em latas de 18 litros, que custam R$ 80,00. \n",
        "#Informe ao usuário a quantidades de latas de tinta a serem compradas e o preço total.\n",
        "# Obs.: somente são vendidos um número inteiro de latas.\n",
        "\n",
        "area = float(input('Digite o tamanho em metros quadrados:'))\n",
        "litros_tinta = area / 3\n",
        "lata = litros_tinta // 18 \n",
        "\n",
        "if (litros_tinta % 18 != 0):\n",
        "  lata = lata + 1\n",
        "\n",
        "preco = lata * 80\n",
        "  \n",
        "print('A quantidade de latas de tinta é:',lata,'que custam',preco,'reais')\n",
        "  "
      ],
      "metadata": {
        "colab": {
          "base_uri": "https://localhost:8080/"
        },
        "id": "GIvNRXL1LfPr",
        "outputId": "6c170790-67ee-4cc6-c5e0-aceaca4aeec3"
      },
      "execution_count": null,
      "outputs": [
        {
          "output_type": "stream",
          "name": "stdout",
          "text": [
            "Digite o tamanho em metros quadrados:59\n",
            "A quantidade de latas de tinta é: 2.0 que custam 160.0 reais\n"
          ]
        }
      ]
    },
    {
      "cell_type": "code",
      "source": [
        "#5. Faça um Programa para uma loja de tintas. O programa deverá pedir o tamanho em metros quadrados da área a ser pintada.\n",
        "# Considere que a cobertura da tinta é de 1 litro para cada 6 metros quadrados e \n",
        "#que a tinta é vendida em latas de 18 litros, que custam R$ 80,00 ou em galões de 3,6 litros, que custam R$ 25,00. \n",
        "#Informe ao usuário as quantidades de tinta a serem compradas e os respectivos preços em 3 situações:\n",
        "#comprar apenas latas de 18 litros;\n",
        "#comprar apenas galões de 3,6 litros;\n",
        "#misturar latas e galões, de forma que o desperdício de tinta seja menor. \n",
        "#Acrescente 10% de folga e sempre arredonde os valores para cima, isto é, considere latas cheias\n",
        "\n",
        "area = float(input('Digite o tamanho em metros quadrados:'))\n",
        "litros_tinta = area / 6 * 1.1\n",
        "\n",
        "def calcular_recipiente(litros_total, litros_lata):\n",
        "  lata = litros_total // litros_lata\n",
        "  \n",
        "  if (litros_total % litros_lata != 0):\n",
        "    lata = lata + 1\n",
        "  \n",
        "  return lata\n",
        "\n",
        "def mistura(litros_total):\n",
        "  recipiente = litros_total // 18\n",
        "  resto_18 = litros_total % 18\n",
        "\n",
        "  if (resto_18 != 0):\n",
        "    galoes = calcular_recipiente(resto_18,3.6)\n",
        "  \n",
        "  recipiente_total = recipiente * 80\n",
        "  galoes_total = galoes* 3.6  \n",
        "  soma = recipiente_total + galoes_total\n",
        "  print('A quantidade de litros é','{:.2f}'.format(litros_total),'litros sendo',recipiente,'latas custando R$',\n",
        "        recipiente_total,'reais e ',galoes,'galoes custando R$',galoes_total,'.Total de R$',soma,'reais') \n",
        "\n",
        "total = calcular_recipiente(litros_tinta,18)\n",
        "print('A quantidade de tinta é ',total,'latas que custam R$',total*80)\n",
        "total = calcular_recipiente(litros_tinta,3.6)\n",
        "print('A quantidade de tinta é',total,'galões que custam R$',total*25)\n",
        "mistura(litros_tinta)\n",
        " "
      ],
      "metadata": {
        "colab": {
          "base_uri": "https://localhost:8080/"
        },
        "id": "qjT3-YpCLsCb",
        "outputId": "3109213a-4504-4f45-eb5a-ac250d833ebf"
      },
      "execution_count": null,
      "outputs": [
        {
          "output_type": "stream",
          "name": "stdout",
          "text": [
            "Digite o tamanho em metros quadrados:5793\n",
            "A quantidade de tinta é  60.0 latas que custam R$ 4800.0\n",
            "A quantidade de tinta é 296.0 galões que custam R$ 7400.0\n",
            "A quantidade de litros é 1062.05 litros sendo 59.0 latas custando R$ 4720.0 reais e  1.0 galoes custando R$ 3.6 .Total de R$ 4723.6 reais\n"
          ]
        }
      ]
    },
    {
      "cell_type": "code",
      "source": [
        "#6. Um posto está vendendo combustíveis com a seguinte tabela de descontos:\n",
        "#a. Álcool:até 20 litros, desconto de 3% por litro\n",
        "#acima de 20 litros, desconto de 5% por litro\n",
        "#b. Gasolina:até 20 litros, desconto de 4% por litro\n",
        "#acima de 20 litros, desconto de 6% por litro\n",
        "\n",
        "#Escreva um algoritmo que leia o número de litros vendidos, o tipo de combustível (codificado da seguinte forma: \n",
        "#A-álcool, G-gasolina), calcule e imprima o valor a ser pago pelo cliente\n",
        "# sabendo-se que o preço do litro da gasolina é 2.50, o preço do litro do álcool é 1,90.\n",
        "\n",
        "litros_vendidos = float(input('Quantos litros foram vendidos ?'))\n",
        "tipo_combustivel = ''\n",
        "\n",
        "while  (tipo_combustivel != 'A' and tipo_combustivel != 'G'):\n",
        "  tipo_combustivel = input('Qual o tipo de Combustível ? A para Álcool e G para gasolina ').upper()\n",
        "  \n",
        "  if (tipo_combustivel != 'A' and tipo_combustivel != 'G'):\n",
        "    print('Código inválido')\n",
        "\n",
        "def calcular_desconto(c,l):\n",
        "  if (c == 'A') and (l <= 20.0):\n",
        "    preco = (l * 1.9)*0.97\n",
        "  elif(c == 'A') and (l > 20.0):\n",
        "    preco = (l * 1.9)*0.95\n",
        "  elif (c=='G') and (l <= 20.0):\n",
        "    preco = (l * 2.5)* 0.96\n",
        "  else:\n",
        "    preco = (l * 2.5)* 0.94\n",
        "  \n",
        "  return preco\n",
        "\n",
        "print('Valor a ser pago ',calcular_desconto(tipo_combustivel,litros_vendidos),'reais')"
      ],
      "metadata": {
        "colab": {
          "base_uri": "https://localhost:8080/"
        },
        "id": "Iz3fY8UvL9U0",
        "outputId": "fc235417-a840-4974-d2b6-de95624c0f02"
      },
      "execution_count": null,
      "outputs": [
        {
          "output_type": "stream",
          "name": "stdout",
          "text": [
            "Quantos litros foram vendidos ?256\n",
            "Qual o tipo de Combustível ? A para Álcool e G para gasolina s\n",
            "Código inválido\n",
            "Qual o tipo de Combustível ? A para Álcool e G para gasolina a\n",
            "Valor a ser pago  462.08 reais\n"
          ]
        }
      ]
    },
    {
      "cell_type": "code",
      "source": [
        "#7. Faça um Programa que leia 2 números e em seguida pergunte ao usuário qual operação ele deseja realizar.\n",
        "# O resultado da operação deve ser acompanhado de uma frase que diga se o número é:\n",
        "#a. par ou ímpar;\n",
        "#b. positivo ou negativo;\n",
        "#c. inteiro ou decimal.\n",
        "\n",
        "num_a = float(input('Digite um número:'))\n",
        "num_b = float(input('Digite outro número:'))\n",
        "operacao = input('Qual operação deseja realizar ?')\n",
        "\n",
        "def operacoes(a):\n",
        "  resultado = None\n",
        "  a = a.lower()\n",
        "\n",
        "  if (a == 'soma'):\n",
        "    resultado = num_a + num_b\n",
        "  elif (a == 'subtração'):\n",
        "    resultado = num_a - num_b\n",
        "  elif (a == 'divisão'):\n",
        "    if (num_b != 0):\n",
        "      resultado = num_a / num_b\n",
        "    else:\n",
        "      print('Operação Inválida')\n",
        "  elif (a == 'multiplicação'):\n",
        "    resultado = num_a * num_b\n",
        "  else:\n",
        "    print('Operação Inválida')\n",
        "\n",
        "  return resultado \n",
        "\n",
        "\n",
        "def par_ou_impar(x):\n",
        "  if (x%2==0):\n",
        "    return 'É par'\n",
        "  else: \n",
        "    return 'É ímpar'\n",
        "\n",
        "def positivo_negativo(y):\n",
        "  if (y<0):\n",
        "    return 'É negativo'\n",
        "  else:\n",
        "    return 'É positivo'\n",
        "\n",
        "def inteiro_decimal(z):\n",
        "  if (z % 1 > 0):\n",
        "    return 'É decimal'\n",
        "  else:\n",
        "    return 'É inteiro'\n",
        "\n",
        "teste = operacoes(operacao)\n",
        "if (teste is not None):\n",
        "  print(operacao,'O resultado da operação é ', teste,'o número é', par_ou_impar(teste),\n",
        "      positivo_negativo(teste), inteiro_decimal(teste))\n"
      ],
      "metadata": {
        "colab": {
          "base_uri": "https://localhost:8080/"
        },
        "id": "eco4j7plMDZV",
        "outputId": "76dfb484-a89b-469f-df69-b2eedb802841"
      },
      "execution_count": null,
      "outputs": [
        {
          "output_type": "stream",
          "name": "stdout",
          "text": [
            "Digite um número:2\n",
            "Digite outro número:3\n",
            "Qual operação deseja realizar ?Multiplicação\n",
            "Multiplicação O resultado da operação é  6.0 o número é É par É positivo É inteiro\n"
          ]
        }
      ]
    }
  ]
}