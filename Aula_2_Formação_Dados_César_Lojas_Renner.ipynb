{
  "nbformat": 4,
  "nbformat_minor": 0,
  "metadata": {
    "colab": {
      "name": "Aula 2 - Formação Dados César/Lojas Renner.ipynb",
      "provenance": [],
      "collapsed_sections": [],
      "toc_visible": true,
      "authorship_tag": "ABX9TyPQfhPVJ8+xRZ7CuhaUB23w",
      "include_colab_link": true
    },
    "kernelspec": {
      "name": "python3",
      "display_name": "Python 3"
    },
    "language_info": {
      "name": "python"
    }
  },
  "cells": [
    {
      "cell_type": "markdown",
      "metadata": {
        "id": "view-in-github",
        "colab_type": "text"
      },
      "source": [
        "<a href=\"https://colab.research.google.com/github/talitacgs/Python-Exercises/blob/main/Aula_2_Forma%C3%A7%C3%A3o_Dados_C%C3%A9sar_Lojas_Renner.ipynb\" target=\"_parent\"><img src=\"https://colab.research.google.com/assets/colab-badge.svg\" alt=\"Open In Colab\"/></a>"
      ]
    },
    {
      "cell_type": "markdown",
      "source": [
        "# Exercícios Fundamentais Aula 2"
      ],
      "metadata": {
        "id": "uj8NpYjmJvqL"
      }
    },
    {
      "cell_type": "code",
      "execution_count": null,
      "metadata": {
        "colab": {
          "base_uri": "https://localhost:8080/"
        },
        "id": "AYKllEurJo0v",
        "outputId": "5fb1e4dc-d5ca-4fe5-d25c-b033a0801e6f"
      },
      "outputs": [
        {
          "output_type": "stream",
          "name": "stdout",
          "text": [
            "a) False\n",
            "b) False\n",
            "c) False\n"
          ]
        }
      ],
      "source": [
        "# 1. Verificar as igualdades\n",
        "# a) 2x3 = 5 b) 2x2.0 = 4 c) a + 3 = b, para a=3 e b=15\n",
        "\n",
        "x = int(2)\n",
        "y = int(3)\n",
        "z = x * y\n",
        "print('a)',z is 5)\n",
        "\n",
        "g = int(2)\n",
        "h = float(2.0)\n",
        "i = g * h\n",
        "print('b)', i is 4)\n",
        "\n",
        "a = int(3)\n",
        "b = int(15)\n",
        "if a + 3 == b:\n",
        "  print('c)', True)\n",
        "else:\n",
        "  print('c)', False)\n"
      ]
    },
    {
      "cell_type": "code",
      "source": [
        "# 2. Faça um programa que calcule as raízes de uma equação do segundo grau, \n",
        "# na forma ax² + bx + c. O programa deverá pedir os valores de a, b e c e \n",
        "# fazer as consistências, informando ao usuário nas seguintes situações:\n",
        "\n",
        "\n",
        "letraa = int(input('Digite o valor de A:'))\n",
        "\n",
        "def handleLogin(letraa):\n",
        "  if (letraa == 0):\n",
        "    print('A equação não é do segundo grau')\n",
        "    return\n",
        "\n",
        "handleLogin(letraa)\n",
        "\n",
        "if (letraa != 0):\n",
        "  letrab = int(input('Digite o valor de B:'))\n",
        "  letrac = int(input('Digite o valor de C:'))\n",
        "\n",
        "  delta = letrab**2 - (4 * letraa * letrac)\n",
        "\n",
        "  if (delta < 0):\n",
        "    print('A equação não possui raízes reais')\n",
        "  elif (delta == 0):\n",
        "    print('A equação possui apenas uma raíz real')\n",
        "  else:\n",
        "    print('A equação possui duas raízes reais')\n"
      ],
      "metadata": {
        "colab": {
          "base_uri": "https://localhost:8080/"
        },
        "id": "hGTpTU9ubbYN",
        "outputId": "1af9af49-b5cb-4169-aa54-06a6c54c46a7"
      },
      "execution_count": null,
      "outputs": [
        {
          "output_type": "stream",
          "name": "stdout",
          "text": [
            "Digite o valor de A:0\n",
            "A equação não é do segundo grau\n"
          ]
        }
      ]
    },
    {
      "cell_type": "code",
      "source": [
        "# 3. Faça um Programa que peça um número correspondente a um determinado ano\n",
        "# e em seguida informe se este ano é ou não bissexto.\n",
        "\n",
        "ano = int(input('Digite um ano no formato XXXX:'))\n",
        "resto1 = ano % 4\n",
        "resto2 = ano % 100\n",
        "resto3 = ano % 400\n",
        "\n",
        "if (resto1 == 0 and resto2 != 0):\n",
        "  print('É um ano bissexto')\n",
        "elif (resto1==0 and resto2 == 0 and resto3 == 0):\n",
        "  print('É um ano bissexto')\n",
        "else:\n",
        "  print('Não é um ano bissexto')"
      ],
      "metadata": {
        "colab": {
          "base_uri": "https://localhost:8080/"
        },
        "id": "Kf0clciVvMjv",
        "outputId": "edb4cf73-3d10-4be2-8b26-38f57270346c"
      },
      "execution_count": null,
      "outputs": [
        {
          "output_type": "stream",
          "name": "stdout",
          "text": [
            "Digite um ano no formato XXXX:1700\n",
            "Não é um ano bissexto\n"
          ]
        }
      ]
    },
    {
      "cell_type": "code",
      "source": [
        "# 4. Faça um Programa que peça uma data no formato dd/mm/aaaa e \n",
        "#determine se a mesma é uma data válida.\n",
        "\n",
        "dia = int(input('Digite um dia no formato dd:'))\n",
        "mes = int(input('Digite um mês no formato mm:'))\n",
        "ano = int(input('Digite um ano no formato aaaa:'))\n",
        "teste = False\n",
        "\n",
        "if (mes==1 or mes == 3 or mes==5 or mes==7 or mes ==8 or mes==0 or mes==12):\n",
        "  if (dia<31):\n",
        "    teste = True\n",
        "\n",
        "elif (mes==4 or mes==6 or mes ==9 or mes==11):\n",
        "  if (dia<30):\n",
        "    teste = True\n",
        "\n",
        "elif (mes==2):\n",
        "  if (ano%4 ==0 and ano%100 !=0):\n",
        "    if(dia<=29):\n",
        "      teste = True\n",
        "  if (ano%4 ==0 and ano%100==0 and ano%400==0):\n",
        "    if(dia<=29):\n",
        "      teste = True\n",
        "  elif(ano%4 != 0 or ano%400 !=0):\n",
        "    if(dia<=28):\n",
        "      teste = True\n",
        "\n",
        "if (teste):\n",
        "  print('Data Válida:',dia,'/',mes,'/',ano)\n",
        "else:\n",
        "  print('Data inválida')"
      ],
      "metadata": {
        "colab": {
          "base_uri": "https://localhost:8080/"
        },
        "id": "qgmKujkC5tav",
        "outputId": "52dab7a3-2dd7-49e5-c0e0-dd02e0e4f2cd"
      },
      "execution_count": null,
      "outputs": [
        {
          "output_type": "stream",
          "name": "stdout",
          "text": [
            "Digite um dia no formato dd:29\n",
            "Digite um mês no formato mm:2\n",
            "Digite um ano no formato aaaa:1700\n",
            "Data inválida\n"
          ]
        }
      ]
    },
    {
      "cell_type": "code",
      "source": [
        "# 5. Faça um Programa que leia um número e exiba o dia correspondente da semana. \n",
        "#(1-Domingo, 2- Segunda, etc.), se digitar outro valor deve aparecer valor inválido.\n",
        "\n",
        "dia = int(input('Digite um número:'))\n",
        "\n",
        "if (dia == 1):\n",
        "  print('Domingo')\n",
        "elif (dia ==2):\n",
        "  print('Segunda-feira')\n",
        "elif (dia ==3):\n",
        "  print('Terça-feira')\n",
        "elif (dia ==4):\n",
        "  print('Quarta-feira')\n",
        "elif (dia ==5):\n",
        "  print('Quinta-feira')\n",
        "elif (dia ==6):\n",
        "  print('Sexta-feira')\n",
        "elif (dia ==7):\n",
        "  print('Sábado')\n",
        "else:\n",
        "  print('Valor inválido')"
      ],
      "metadata": {
        "colab": {
          "base_uri": "https://localhost:8080/"
        },
        "id": "mrrJNO0256w1",
        "outputId": "87204bee-47bb-4296-cc57-f78d69ffdae6"
      },
      "execution_count": null,
      "outputs": [
        {
          "output_type": "stream",
          "name": "stdout",
          "text": [
            "Digite um número:6\n",
            "Sexta-feira\n"
          ]
        }
      ]
    }
  ]
}