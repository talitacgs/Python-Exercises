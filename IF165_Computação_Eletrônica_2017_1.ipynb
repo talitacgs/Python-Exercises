{
  "nbformat": 4,
  "nbformat_minor": 0,
  "metadata": {
    "colab": {
      "name": "IF165 - Computação Eletrônica_2017.1.ipynb",
      "provenance": [],
      "toc_visible": true,
      "authorship_tag": "ABX9TyN5Iqb7amdpKUGpo15X28yb",
      "include_colab_link": true
    },
    "kernelspec": {
      "name": "python3",
      "display_name": "Python 3"
    },
    "language_info": {
      "name": "python"
    }
  },
  "cells": [
    {
      "cell_type": "markdown",
      "metadata": {
        "id": "view-in-github",
        "colab_type": "text"
      },
      "source": [
        "<a href=\"https://colab.research.google.com/github/talitacgs/Python-Exercises/blob/main/IF165_Computa%C3%A7%C3%A3o_Eletr%C3%B4nica_2017_1.ipynb\" target=\"_parent\"><img src=\"https://colab.research.google.com/assets/colab-badge.svg\" alt=\"Open In Colab\"/></a>"
      ]
    },
    {
      "cell_type": "markdown",
      "source": [
        "# 1° Exercício - 2017.1"
      ],
      "metadata": {
        "id": "A0phlPSlJmNO"
      }
    },
    {
      "cell_type": "markdown",
      "source": [
        "Q1. Um agente censitário deseja contabilizar as informações do censo em uma cidade. Construa um programa para auxiliar o agente nesta tarefa. Para cada cidadão, o agente deve digitar a idade, renda e sexo do cidadão. O programa deve verificar se o agente digitou um valor válido para sexo (M - masculino, F - feminino). Em caso negativo, o programa deve pedir para o agente digitá-lo novamente. O final do cadastramento do dado é feito quando o agente digita um valor negativo para a idade.\n",
        "Após o final do cadastramento, o programa deve mostrar:\n",
        "\n",
        "a) O total de pessoas cadastradas\n",
        "\n",
        "b) A proporção de pessoas do sexo feminino\n",
        "\n",
        "c) A idade da pessoa com maior idade\n",
        "\n",
        "d) A média da renda\n"
      ],
      "metadata": {
        "id": "sF-AC0aNJPc1"
      }
    },
    {
      "cell_type": "code",
      "execution_count": null,
      "metadata": {
        "colab": {
          "base_uri": "https://localhost:8080/"
        },
        "id": "CWNz9QNJI_DQ",
        "outputId": "8ba5db35-00dd-4cb6-b376-98a16c804567"
      },
      "outputs": [
        {
          "output_type": "stream",
          "name": "stdout",
          "text": [
            "Qual a idade? 14\n",
            "Qual a renda do cidadao? 123\n",
            "Qual o gênero do cidadão (M) ou (F)? M\n",
            "Qual a idade? 16\n",
            "Qual a renda do cidadao? 234\n",
            "Qual o gênero do cidadão (M) ou (F)? F\n",
            "Qual a idade? 56\n",
            "Qual a renda do cidadao? 3456\n",
            "Qual o gênero do cidadão (M) ou (F)? F\n",
            "Qual a idade? 67\n",
            "Qual a renda do cidadao? 7850\n",
            "Qual o gênero do cidadão (M) ou (F)? F\n",
            "Qual a idade? -4\n",
            "Total cadastrado:  4\n",
            "% Sexo Feminino:  75.0\n",
            "Maior idade:  67\n",
            "Media da renda:  2916\n"
          ]
        }
      ],
      "source": [
        "idade = []\n",
        "renda = []\n",
        "sexof = []\n",
        "sexom = []\n",
        "\n",
        "while True:\n",
        "  id = int(input('Qual a idade? '))\n",
        "  if id < 0:\n",
        "    break\n",
        "  else:\n",
        "    idade.append(id)\n",
        "    renda.append(float(input('Qual a renda do cidadao? ')))\n",
        "    genero = input('Qual o gênero do cidadão (M) ou (F)? ')\n",
        "    genero.upper()\n",
        "    if genero == 'F':\n",
        "      sexof.append(genero)\n",
        "    elif genero == 'M':\n",
        "      sexom.append(genero)\n",
        "    else:\n",
        "      print('Valor inválido')\n",
        "      genero = input('Qual o gênero do cidadão (M) ou (F)? ')\n",
        "      genero.upper()\n",
        "\n",
        "\n",
        "print('Total cadastrado: ', len(renda))\n",
        "print('% Sexo Feminino: ', (len(sexof)/(len(sexof)+len(sexom)))* 100,'%')\n",
        "print('Maior idade: ', max(idade))\n",
        "print('Media da renda: ', round(sum(renda)/len(renda)))"
      ]
    },
    {
      "cell_type": "markdown",
      "source": [
        "Q2. Você é responsável por desenvolver um Jogo chamado Liga Das Lendas. Esse jogo é um jogo de luta que tem 5 rounds. No início de cada round o jogador deve escolher o seu campeão digitando um número de 1 a 3. Onde 1 corresponde ao campeão Teemo, 2 ao campeão Ashe e 3 ao campeão Braum. Depois de selecionar um dos campeões, o jogador deve digitar qual o golpe do campeão ele deseja executar. Os golpes possíveis são somente executados digitando uma das letras Q, W, E e R. Sendo que o golpe Q tem 10 de dano, o W tem 50 e o E tem 100. O golpe R não tem dano nenhum, porém encerra o round. Qualquer outra letra também não tem dano nenhum.\n",
        "Depois dos 5 rounds o programa deve mostrar:\n",
        "\n",
        "a) O dano total em todos os 5 rounds\n",
        "\n",
        "b) O dano total em todos os 5 rounds das vezes que foi utilizada o golpe Q\n",
        "\n",
        "c) Quantos golpes o campeão Teemo executou em todos os 5 rounds\n",
        "\n",
        "c) A proporção de vezes que o campeão Braum foi usado.\n"
      ],
      "metadata": {
        "id": "jmF84OnQJZji"
      }
    },
    {
      "cell_type": "code",
      "source": [
        "danototal = []\n",
        "campeao = []\n",
        "contador = 0\n",
        "substring1 = 'Q'\n",
        "substring2 = 'W'\n",
        "substring3 = 'E'\n",
        "\n",
        "while contador < 5:\n",
        "  champs = int(input('Escolha o campeao (1) Teemo, (2) Ashe e (3) Braum: '))\n",
        "  if champs < 1 or champs > 3:\n",
        "    print('Inválido')\n",
        "    champs = int(input('Escolha o campeao (1) Teemo, (2) Ashe e (3) Braum: '))\n",
        "  else:\n",
        "    campeao.append(champs)\n",
        "\n",
        "  golpe = input('Escolha o golpe (Q), (W), (E) ou (R) para encerrar: ')\n",
        "  golpe = golpe.upper()\n",
        "  if golpe == 'R':\n",
        "    danototal.append(golpe)\n",
        "    break\n",
        "  else:\n",
        "    danototal.append(golpe)\n",
        "  contador += 1\n",
        "\n",
        "pontos = (danototal.count(substring1) * 10) + (danototal.count(substring2) * 50) + (danototal.count(substring3) * 100)\n",
        "pontosq = danototal.count(substring1)\n",
        "teemo = campeao.count(1)\n",
        "braum = (campeao.count(3)/len(campeao)) * 100\n",
        "\n",
        "print('Dano total dos 5 rounds: ',pontos, \" e Q somou\",pontosq * 10,'vezes')\n",
        "print('Teemo executou ',teemo, 'golpes e Braum foi usado ',braum,' % das vezes')"
      ],
      "metadata": {
        "colab": {
          "base_uri": "https://localhost:8080/"
        },
        "id": "WQOVqt3-Jh04",
        "outputId": "dee2de5e-460c-4b62-84e9-13afbe800401"
      },
      "execution_count": 9,
      "outputs": [
        {
          "output_type": "stream",
          "name": "stdout",
          "text": [
            "Escolha o campeao (1) Teemo, (2) Ashe e (3) Braum: 1\n",
            "Escolha o golpe (Q), (W), (E) ou (R) para encerrar: q\n",
            "Escolha o campeao (1) Teemo, (2) Ashe e (3) Braum: 2\n",
            "Escolha o golpe (Q), (W), (E) ou (R) para encerrar: q\n",
            "Escolha o campeao (1) Teemo, (2) Ashe e (3) Braum: 3\n",
            "Escolha o golpe (Q), (W), (E) ou (R) para encerrar: w\n",
            "Escolha o campeao (1) Teemo, (2) Ashe e (3) Braum: 3\n",
            "Escolha o golpe (Q), (W), (E) ou (R) para encerrar: e\n",
            "Escolha o campeao (1) Teemo, (2) Ashe e (3) Braum: 2\n",
            "Escolha o golpe (Q), (W), (E) ou (R) para encerrar: w\n",
            "Dano total dos 5 rounds:  220  e Q somou 20 vezes\n",
            "Teemo executou  1 golpes e Braum foi usado  40.0  % das vezes\n"
          ]
        }
      ]
    }
  ]
}