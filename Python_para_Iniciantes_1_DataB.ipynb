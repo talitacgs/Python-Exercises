{
  "nbformat": 4,
  "nbformat_minor": 0,
  "metadata": {
    "colab": {
      "name": "Python para Iniciantes_1 - DataB.ipynb",
      "provenance": [],
      "toc_visible": true,
      "collapsed_sections": [
        "fPGC2z-tdzlP",
        "GFjfz3nWeDMZ",
        "fVKxJNvzto4Z",
        "JjkLfE-EA6KP"
      ],
      "authorship_tag": "ABX9TyNKFd4qYf22hTN56NefpNYU",
      "include_colab_link": true
    },
    "kernelspec": {
      "name": "python3",
      "display_name": "Python 3"
    },
    "language_info": {
      "name": "python"
    }
  },
  "cells": [
    {
      "cell_type": "markdown",
      "metadata": {
        "id": "view-in-github",
        "colab_type": "text"
      },
      "source": [
        "<a href=\"https://colab.research.google.com/github/talitacgs/Python-Exercises/blob/main/Python_para_Iniciantes_1_DataB.ipynb\" target=\"_parent\"><img src=\"https://colab.research.google.com/assets/colab-badge.svg\" alt=\"Open In Colab\"/></a>"
      ]
    },
    {
      "cell_type": "markdown",
      "source": [
        "# Exercícios de Fixação 1"
      ],
      "metadata": {
        "id": "fPGC2z-tdzlP"
      }
    },
    {
      "cell_type": "markdown",
      "source": [
        "Q1. Crie três variáveis, uma que contenha seu nome, idade e altura e imprima na tela."
      ],
      "metadata": {
        "id": "zYqaPDu8ALWy"
      }
    },
    {
      "cell_type": "code",
      "execution_count": null,
      "metadata": {
        "colab": {
          "base_uri": "https://localhost:8080/"
        },
        "id": "-Eok_7uYAGjp",
        "outputId": "16f3a46a-6133-466a-f071-c9b81c3d8c60"
      },
      "outputs": [
        {
          "output_type": "stream",
          "name": "stdout",
          "text": [
            "Talita , 27 anos , 156 cm .\n"
          ]
        }
      ],
      "source": [
        "nome = 'Talita' \n",
        "idade = '27 anos'\n",
        "altura = '156 cm'\n",
        "\n",
        "print(nome,',',idade,',',altura,'.')"
      ]
    },
    {
      "cell_type": "markdown",
      "source": [
        "Q2. Faça uma operação de adição e outra de multiplicação e atribua o resultado em\n",
        "uma variável e imprima na tela o resultado da divisão de ambas."
      ],
      "metadata": {
        "id": "NRajW5idAnym"
      }
    },
    {
      "cell_type": "code",
      "source": [
        "x = 4\n",
        "y = 3\n",
        "\n",
        "adicao = x + y \n",
        "multip = x * y \n",
        "\n",
        "print(adicao/multip)"
      ],
      "metadata": {
        "colab": {
          "base_uri": "https://localhost:8080/"
        },
        "id": "Zq1prGiJAxQD",
        "outputId": "9318a2fd-19de-4eba-8483-d46bd94ca9f1"
      },
      "execution_count": null,
      "outputs": [
        {
          "output_type": "stream",
          "name": "stdout",
          "text": [
            "0.5833333333333334\n"
          ]
        }
      ]
    },
    {
      "cell_type": "markdown",
      "source": [
        "Q3. Imprima na tela o dia, mês e ano do seu nascimento."
      ],
      "metadata": {
        "id": "dXcjjWz9Ax1j"
      }
    },
    {
      "cell_type": "code",
      "source": [
        "dia = '24'\n",
        "mes = '12'\n",
        "ano = '1994'\n",
        "\n",
        "print(dia,'/',mes,'/',ano)"
      ],
      "metadata": {
        "colab": {
          "base_uri": "https://localhost:8080/"
        },
        "id": "2sjSf2akA2aQ",
        "outputId": "2a9fec17-cbcd-492d-fb0a-c95117d90039"
      },
      "execution_count": null,
      "outputs": [
        {
          "output_type": "stream",
          "name": "stdout",
          "text": [
            "24 / 12 / 1994\n"
          ]
        }
      ]
    },
    {
      "cell_type": "markdown",
      "source": [
        "Q4. Faça 04 variáveis de cada um dos tipos de dados (string, int, float e bool) e imprima na tela o seu tipo (usar o comando type)."
      ],
      "metadata": {
        "id": "FX_-Xe8RA3Gk"
      }
    },
    {
      "cell_type": "code",
      "source": [
        "var1 = str('oi')\n",
        "var2 = int(88)\n",
        "var3 = float(0.13)\n",
        "var4 = bool(True)\n",
        "\n",
        "print(type(var1),type(var2),type(var3),type(var4))"
      ],
      "metadata": {
        "colab": {
          "base_uri": "https://localhost:8080/"
        },
        "id": "fJgwm6y3BITv",
        "outputId": "ff55b331-e1ff-4b2a-8dd0-40078effd6ad"
      },
      "execution_count": null,
      "outputs": [
        {
          "output_type": "stream",
          "name": "stdout",
          "text": [
            "<class 'str'> <class 'int'> <class 'float'> <class 'bool'>\n"
          ]
        }
      ]
    },
    {
      "cell_type": "markdown",
      "source": [
        "Q5. Faça um bloco de comando que receba 04 notas e considere seu respectivo peso como 1, 3, 5 e 7 e calcule a média ponderada e imprima na tela."
      ],
      "metadata": {
        "id": "HM1XRJKrBI6a"
      }
    },
    {
      "cell_type": "code",
      "source": [
        "nota1 = float(input('Digite nota 1: '))\n",
        "nota2 = float(input('Digite nota 2: '))\n",
        "nota3 = float(input('Digite nota 3: '))\n",
        "nota4 = float(input('Digite nota 4: '))\n",
        "\n",
        "mediapond =  (nota1*1 + nota2*3 + nota3*5 + nota4*7)/(16)\n",
        "print(mediapond)"
      ],
      "metadata": {
        "colab": {
          "base_uri": "https://localhost:8080/"
        },
        "id": "pX2SWV39BUxf",
        "outputId": "d1e087ba-4d69-44d9-a485-c1f4da013b38"
      },
      "execution_count": null,
      "outputs": [
        {
          "output_type": "stream",
          "name": "stdout",
          "text": [
            "Digite nota 12\n",
            "Digite nota 25\n",
            "Digite nota 37\n",
            "Digite nota 49\n",
            "7.1875\n"
          ]
        }
      ]
    },
    {
      "cell_type": "markdown",
      "source": [
        "Q6. Faça uma operação para cada um dos operadores ariméticos mostrados em aula (adição, subtração, multiplicação, divisão, exponenciação, divisão inteira e módulo)."
      ],
      "metadata": {
        "id": "697z530dBVji"
      }
    },
    {
      "cell_type": "code",
      "source": [
        "x = int(4)\n",
        "y = int(6)\n",
        "\n",
        "adicao = x + y \n",
        "subtr = x - y \n",
        "multip = x * y\n",
        "divisao = x / y \n",
        "exp = x ** y \n",
        "divint = x // y \n",
        "modulo = x % y \n",
        "\n",
        "print('Soma: ',adicao,'Subtração: ',subtr,'Multiplicação: ',multip,\n",
        "      'Divisão: ',divisao,'Exponencial: ',exp,'Divisão Inteira:',divint,'Módulo: ',modulo)"
      ],
      "metadata": {
        "colab": {
          "base_uri": "https://localhost:8080/"
        },
        "id": "woBUby3UBeeM",
        "outputId": "bb79e0d5-eedc-415c-d1cd-1353e62a264f"
      },
      "execution_count": null,
      "outputs": [
        {
          "output_type": "stream",
          "name": "stdout",
          "text": [
            "Soma:  10 Subtração:  -2 Multiplicação:  24 Divisão:  0.6666666666666666 Exponencial:  4096 Divisão Inteira: 0 Módulo:  4\n"
          ]
        }
      ]
    },
    {
      "cell_type": "markdown",
      "source": [
        "Q7. Utilizando a função input, crie um bloco de comando que receba a distância percorrida por um veículo e seu consumo em litros e calcule a média por litro e imprima na tela."
      ],
      "metadata": {
        "id": "ZOzhWxdrBfCG"
      }
    },
    {
      "cell_type": "code",
      "source": [
        "distancia = float(input('Digite a distância percorrida: '))\n",
        "consumo = float(input('Digite o consumo do veículos, em litros: '))\n",
        "\n",
        "print('Média por litro é: ', distancia/consumo)"
      ],
      "metadata": {
        "colab": {
          "base_uri": "https://localhost:8080/"
        },
        "id": "BpFQyIJeBmFC",
        "outputId": "d384525a-94bb-4bdd-f7b8-f15627085393"
      },
      "execution_count": null,
      "outputs": [
        {
          "output_type": "stream",
          "name": "stdout",
          "text": [
            "Digite a distância percorrida: 10\n",
            "Digite o consumo do veículos, em litros: 5.2\n",
            "Média por litro é:  1.923076923076923\n"
          ]
        }
      ]
    },
    {
      "cell_type": "markdown",
      "source": [
        "Q8. Considere que o metro de uma grade metálica custe R$ 11,20 e um cliente deseja comprar 16 metros. O cliente deseja pagar parcelado, onde haverá um acréscimo de 12%. Calcule o valor total que o cliente irá pagar e imprima na tela."
      ],
      "metadata": {
        "id": "PmCbitzdBmeK"
      }
    },
    {
      "cell_type": "code",
      "source": [
        "valormetro = float(11.20)\n",
        "compra = int(16)\n",
        "\n",
        "print('Valor total com 12% de juros é R$',valormetro*compra*1.12,'reais')"
      ],
      "metadata": {
        "colab": {
          "base_uri": "https://localhost:8080/"
        },
        "id": "0Ia2OaxZBxJ8",
        "outputId": "9d42b82a-4b76-4fca-e83f-e7aaa6482c47"
      },
      "execution_count": null,
      "outputs": [
        {
          "output_type": "stream",
          "name": "stdout",
          "text": [
            "Valor total com 12% de juros é R$ 200.704 reais\n"
          ]
        }
      ]
    },
    {
      "cell_type": "markdown",
      "source": [
        "Q9. Faça um programa que calcule a área de um círculo (considere Área = π * r2 e π = 3,14). Faça um input que receba o valor do raio e imprima o valor da área na tela."
      ],
      "metadata": {
        "id": "PgLZbpTEBxqs"
      }
    },
    {
      "cell_type": "code",
      "source": [
        "raio = float(input('Digite o valor do raio: '))\n",
        "\n",
        "print('Área do círculo é: ',3.14*raio**2)"
      ],
      "metadata": {
        "colab": {
          "base_uri": "https://localhost:8080/"
        },
        "id": "f1UlMP5SB4Oc",
        "outputId": "62898c13-fdcd-49a4-b64c-43bbaf328918"
      },
      "execution_count": null,
      "outputs": [
        {
          "output_type": "stream",
          "name": "stdout",
          "text": [
            "Digite o valor do raio: 10\n",
            "Área do círculo é:  314.0\n"
          ]
        }
      ]
    },
    {
      "cell_type": "markdown",
      "source": [
        "Q10. Faça um programa que receba a distância de um local em quilômetros e a velocidade média e mostre na tela em quanto tempo é necessário para se chegar no destino."
      ],
      "metadata": {
        "id": "ZPw3JIarB5JF"
      }
    },
    {
      "cell_type": "code",
      "source": [
        "distancia = int(input('Digite a distância: '))\n",
        "velocidade = int(input('Digite a velocidade média: '))\n",
        "\n",
        "print('Tempo necessário até o destino: ', distancia/velocidade)"
      ],
      "metadata": {
        "colab": {
          "base_uri": "https://localhost:8080/"
        },
        "id": "gpMr_i1tCD47",
        "outputId": "3baac280-a394-4f2e-dbe3-b509fa686f8d"
      },
      "execution_count": null,
      "outputs": [
        {
          "output_type": "stream",
          "name": "stdout",
          "text": [
            "Digite a distância: 10\n",
            "Digite a velocidade média: 2\n",
            "Tempo necessário até o destino:  5.0\n"
          ]
        }
      ]
    },
    {
      "cell_type": "markdown",
      "source": [
        "# Exercícios de Fixação 2"
      ],
      "metadata": {
        "id": "GFjfz3nWeDMZ"
      }
    },
    {
      "cell_type": "markdown",
      "source": [
        "Q1. Faça um programa que receba um número e imprima na tela informando se ele é\n",
        "par ou ímpar."
      ],
      "metadata": {
        "id": "ns5B9bvgkvCb"
      }
    },
    {
      "cell_type": "code",
      "source": [
        "numero = float(input('Digite um número: '))\n",
        "\n",
        "if numero % 2 == 0:\n",
        "  print('O número é par')\n",
        "else:\n",
        "  print('O número é ímpar')"
      ],
      "metadata": {
        "colab": {
          "base_uri": "https://localhost:8080/"
        },
        "id": "fL7vYNH8k9L-",
        "outputId": "9ba00d3a-703f-4efb-e7a3-14232a26ab54"
      },
      "execution_count": null,
      "outputs": [
        {
          "output_type": "stream",
          "name": "stdout",
          "text": [
            "Digite um número: 2.0\n",
            "O número é par\n"
          ]
        }
      ]
    },
    {
      "cell_type": "markdown",
      "source": [
        "Q2. Faça um programa onde o cliente possa digitar o valor de um empréstimo e em\n",
        "quantas vezes ele deseja parcelar, calcule e imprima o valor total que ele irá pagar\n",
        "acrescido dos juros.\n",
        "\n",
        "- Parcelar em menos de 15 vezes: 9% de juros\n",
        "- Parcelar em mais de 15 vezes: 13% de juros"
      ],
      "metadata": {
        "id": "hBIfi3yPk-LC"
      }
    },
    {
      "cell_type": "code",
      "source": [
        "emprestimo = float(input('Digite o valor do empréstimo: '))\n",
        "parcelas = int(input('Digite quantas parcelas deseja pagar: '))\n",
        "\n",
        "if parcelas <= 15:\n",
        "  print('O valor da parcela é R$ ','{:.2f}'.format(emprestimo/parcelas*1.09),'reais')\n",
        "else:\n",
        "  print('O valor da parcela é R$ ','{:.2f}'.format(emprestimo/parcelas*1.13),'reais')\n",
        "\n"
      ],
      "metadata": {
        "colab": {
          "base_uri": "https://localhost:8080/"
        },
        "id": "e5yNxDJxlEyM",
        "outputId": "fa537fa6-8ad1-495c-e436-647a4a511141"
      },
      "execution_count": null,
      "outputs": [
        {
          "output_type": "stream",
          "name": "stdout",
          "text": [
            "Digite o valor do empréstimo: 1000\n",
            "Digite quantas parcelas deseja pagar: 16\n",
            "O valor da parcela é R$  70.62 reais\n"
          ]
        }
      ]
    },
    {
      "cell_type": "markdown",
      "source": [
        "Q3. Faça um programa que receba dois números e o caractere da operação\n",
        "desejada (adição, subtração, multiplicação, divisão, exponenciação, divisão inteira e módulo) e imprima o resultado na tela."
      ],
      "metadata": {
        "id": "3InXPIpqlFTJ"
      }
    },
    {
      "cell_type": "code",
      "source": [
        "num1 = float(input('Digite um número: '))\n",
        "num2 = float(input('Digite um número: '))\n",
        "operacao = input('Digite a operação desejada (adição, subtração, multiplicação, divisão, exponenciação, divisão inteira ou módulo): ')\n",
        "operacao = operacao.lower()\n",
        "\n",
        "if operacao == 'soma':\n",
        "  print('O resultado é: ', num1 + num2)\n",
        "elif operacao == 'subtração':\n",
        "  print('O resultado é: ', num1 - num2)\n",
        "elif operacao == 'multiplicação':\n",
        "  print('O resultado é: ', num1 * num2)\n",
        "elif operacao == 'divisão':\n",
        "  print('O resultado é: ', num1/num2)\n",
        "elif operacao == 'exponenciação':\n",
        "  print('O resultado é: ', num1 ** num2)\n",
        "elif operacao == 'divisão inteira':\n",
        "  print('O resultado é: ', num1 // num2)\n",
        "elif operacao == 'módulo':\n",
        "  print('O resultado é: ', num1 % num2)\n",
        "else:\n",
        "  print('Favor digitar operação válida')\n",
        "\n"
      ],
      "metadata": {
        "colab": {
          "base_uri": "https://localhost:8080/"
        },
        "id": "qGoQqNzelOst",
        "outputId": "a569fde6-739a-4011-af9a-cd477671cab3"
      },
      "execution_count": null,
      "outputs": [
        {
          "output_type": "stream",
          "name": "stdout",
          "text": [
            "Digite um número: 6\n",
            "Digite um número: 8\n",
            "Digite a operação desejada (adição, subtração, multiplicação, divisão, exponenciação, divisão inteira ou módulo): Subtração\n",
            "O resultado é:  -2.0\n"
          ]
        }
      ]
    },
    {
      "cell_type": "markdown",
      "source": [
        "Q4. Faça um programa que receba um valor inicial (valor presente), uma taxa de juros e a quantidade de parcelas. Após a coleta desses dados, o programa deverá retornar com o valor final (valor futuro), levando em consideração que os juros são compostos, ou seja, juros sobre juros.\n",
        "\n",
        "VF = VP * (1 + i) n \n",
        "- VP = Valor Presente\n",
        "VF = Valor Futuro\n",
        "i = Taxa de Juros\n",
        "n = Período"
      ],
      "metadata": {
        "id": "iFJPYvzflPrj"
      }
    },
    {
      "cell_type": "code",
      "source": [
        "valorinicial = float(input('Digite um valor inicial: '))\n",
        "juros = float(input('Digite uma taxa de juros: '))\n",
        "parcela = int(input('Digite a quantidade de parcelas: '))\n",
        "\n",
        "print('O valor final é: ',valorinicial * (1+juros) * parcela)"
      ],
      "metadata": {
        "colab": {
          "base_uri": "https://localhost:8080/"
        },
        "id": "CfWQ4DIxlakU",
        "outputId": "a530852a-5a7a-40bb-ca27-956fb8b9406b"
      },
      "execution_count": null,
      "outputs": [
        {
          "output_type": "stream",
          "name": "stdout",
          "text": [
            "Digite um valor inicial: 10\n",
            "Digite uma taxa de juros: 3\n",
            "Digite a quantidade de parcelas: 4\n",
            "O valor final é:  160.0\n"
          ]
        }
      ]
    },
    {
      "cell_type": "markdown",
      "source": [
        "Q5. Para a emancipação de um distrito municipal é importante considerar o número de habitantes do distrito e a região em que o distrito está. As regiões contempladas serão a região Sul e Sudeste. Faça um programa que ao ler a região e o número de habitantes imprima a mensagem se o distrito está apto para ser emancipado ou não. Observe os critérios e cálculos que envolvidos:\n",
        "\n",
        "- Região Sudeste – superior a 250 mil habitantes\n",
        "- Para região Sul – superior ou igual a 165 mil habitantes"
      ],
      "metadata": {
        "id": "si8zWpxblbH5"
      }
    },
    {
      "cell_type": "code",
      "source": [
        "habitantes = int(input('Digite o número total de habitantes: '))\n",
        "regiao = input('Digite a região do distrito: ')\n",
        "regiao = regiao.lower()\n",
        "\n",
        "if regiao == 'sudeste':\n",
        "  if habitantes > 250000:\n",
        "    print('Região apta para ser emancipada')\n",
        "  else:\n",
        "    print('Região não está apta para ser emancipada')\n",
        "elif regiao == 'sul':\n",
        "  if habitantes >= 165000:\n",
        "    print('Região apta para ser emancipada')\n",
        "  else:\n",
        "    print('Região não está apta para ser emancipada')\n",
        "else:\n",
        "  print('Região não está apta para ser emancipada')    "
      ],
      "metadata": {
        "colab": {
          "base_uri": "https://localhost:8080/"
        },
        "id": "Tzjwjjk-ljO3",
        "outputId": "fdc890d9-75f0-4cac-c8f4-b6b5a4ef1ff3"
      },
      "execution_count": null,
      "outputs": [
        {
          "output_type": "stream",
          "name": "stdout",
          "text": [
            "Digite o número total de habitantes: 165000\n",
            "Digite a região do distrito: NORDESTE\n",
            "Região não está apta para ser emancipada\n"
          ]
        }
      ]
    },
    {
      "cell_type": "markdown",
      "source": [
        "Q6. Os pet shops cada vez mais têm utilizado as mídias sociais para fazerem propaganda dos serviços prestados. Por conta desta inovação, foi solicitado um programa para calcular os valores recebidos mensalmente. Faça um programa que leia quantidade de banhos e tosa\n",
        "realizados por dia e seu respectivo valor, calcule e imprima na tela o valor total recebido no mês (considerar o mês com 30 dias)."
      ],
      "metadata": {
        "id": "XuS9JZC8lj0-"
      }
    },
    {
      "cell_type": "code",
      "source": [
        "banho = int(input('Quantos banhos tiveram hoje? '))\n",
        "valorbanho = float(input('Quanto custou os banhos? '))\n",
        "tosa = int(input('Quantas tosas tiveram hoje? '))\n",
        "valortosa = float(input('Quanto custou as tosas? '))\n",
        "\n",
        "print('Houveram ', banho*30,'banhos, no total de R$ ',valorbanho*30,'reais')\n",
        "print('Houveram', tosa*30,'tosas, no total de R$',valortosa*30,'reais')"
      ],
      "metadata": {
        "colab": {
          "base_uri": "https://localhost:8080/"
        },
        "id": "zLzv6UCFlr33",
        "outputId": "bc33808a-1eb2-4ce8-b378-d5383854c1d6"
      },
      "execution_count": null,
      "outputs": [
        {
          "output_type": "stream",
          "name": "stdout",
          "text": [
            "Quantos banhos tiveram hoje? 30\n",
            "Quanto custou os banhos? 10\n",
            "Quantas tosas tiveram hoje? 45\n",
            "Quanto custou as tosas? 10\n",
            "Houveram  900 banhos, no total de R$  300.0 reais\n",
            "Houveram 1350 tosas, no total de R$ 300.0 reais\n"
          ]
        }
      ]
    },
    {
      "cell_type": "markdown",
      "source": [
        "Q7. Faça um programa que receba dois números e imprima na tela qual o maior número."
      ],
      "metadata": {
        "id": "UiZBcKGwlshU"
      }
    },
    {
      "cell_type": "code",
      "source": [
        "num1 = float(input('Digite um número: '))\n",
        "num2 = float(input('Digite outro número: '))\n",
        "\n",
        "if num1 - num2 == 0:\n",
        "  print('Os números são iguais')\n",
        "elif num1 - num2 < 0: \n",
        "  print('O maior número é: ',num2)\n",
        "else:\n",
        "  print('O maior número é: ', num1)"
      ],
      "metadata": {
        "colab": {
          "base_uri": "https://localhost:8080/"
        },
        "id": "XpGm_00Jlx61",
        "outputId": "bda12509-e2a3-40bc-bcbd-8f094d824369"
      },
      "execution_count": null,
      "outputs": [
        {
          "output_type": "stream",
          "name": "stdout",
          "text": [
            "Digite um número: 4\n",
            "Digite outro número: 4\n",
            "Os números são iguais\n"
          ]
        }
      ]
    },
    {
      "cell_type": "markdown",
      "source": [
        "Q8. Alguns candidatos desejam saber as intenções de votos de seu eleitorado e se serão eleitos no primeiro turno ou se irão para segundo turno. Faça um programa que leia o nome do município, a quantidade de eleitores aptos, o número de votos do candidato e informe se ele terá ou não segundo turno em sua eleição municipal. Considerar:\n",
        "- O sistema eleitoral com dois turnos é um sistema de votação utilizado para que o candidato eleito tenha mais de 50% dos votos do eleitorado.\n",
        "- Somente os municípios que possuem mais de 20.000 eleitores aptos tem segundo turno nas eleições para prefeito."
      ],
      "metadata": {
        "id": "qeReMTc7lyu6"
      }
    },
    {
      "cell_type": "code",
      "source": [
        "municipio = input('Digite o nome do município: ')\n",
        "eleitores = int(input('Digite a quantidade de eleitores aptos: '))\n",
        "votos = int(input('Quantidade de votos: '))\n",
        "\n",
        "if eleitores > 20000:\n",
        "  if votos >= (eleitores * 0.5):\n",
        "    print('Eleito no primeiro turno ')\n",
        "  else:\n",
        "    print('Haverá segundo turno')\n",
        "else:\n",
        "    print('Não há eleitores aptos suficientes para segundo turno')"
      ],
      "metadata": {
        "id": "V8PB9aRml-Rw",
        "colab": {
          "base_uri": "https://localhost:8080/"
        },
        "outputId": "6d782e46-2b28-4f01-a98b-7878a55b8fad"
      },
      "execution_count": null,
      "outputs": [
        {
          "output_type": "stream",
          "name": "stdout",
          "text": [
            "Digite o nome do município: Cabrobó\n",
            "Digite a quantidade de eleitores aptos: 25000\n",
            "Quantidade de votos: 10000\n",
            "Haverá segundo turno\n"
          ]
        }
      ]
    },
    {
      "cell_type": "markdown",
      "source": [
        "Q9. Utilizando o método format, faça um programa que receba o nome de um produto, a quantidade, preço unitário e calcule o valor total. O programa deverá informar se esse valor ultrapassou ou não R$ 100 reais, além de imprimir na tela todas as informações coletadas."
      ],
      "metadata": {
        "id": "XRiVICxNl-zj"
      }
    },
    {
      "cell_type": "code",
      "source": [
        "produto = input('Digite o nome do produto: ')\n",
        "quantidade = int(input('Digite a quantidade: '))\n",
        "preco = float(input('Digite o preço unitário: '))\n",
        "\n",
        "valor = quantidade * preco\n",
        "\n",
        "texto = '{0} custa {1} reais, preço unitario de {2} e {3} unidades'\n",
        "\n",
        "print(texto.format(produto,valor,preco,quantidade))"
      ],
      "metadata": {
        "id": "iYQPx523mG8W",
        "colab": {
          "base_uri": "https://localhost:8080/"
        },
        "outputId": "bc08c9ea-e76d-4300-dc0d-ce25b2206d57"
      },
      "execution_count": null,
      "outputs": [
        {
          "output_type": "stream",
          "name": "stdout",
          "text": [
            "Digite o nome do produto: jujuba\n",
            "Digite a quantidade: 10\n",
            "Digite o preço unitário: 2.5\n",
            "jujuba custa 25.0 reais, preço unitario de 2.5 e 10 unidades\n"
          ]
        }
      ]
    },
    {
      "cell_type": "markdown",
      "source": [
        "# Exercícios de Fixação 3"
      ],
      "metadata": {
        "id": "fVKxJNvzto4Z"
      }
    },
    {
      "cell_type": "markdown",
      "source": [
        "Q1. Crie um código que imprima na tela todos os números pares até 25."
      ],
      "metadata": {
        "id": "PDieGI2kt1Jn"
      }
    },
    {
      "cell_type": "code",
      "source": [
        "numero = 0\n",
        "\n",
        "for numero in range(25):\n",
        "  if numero % 2 == 0:\n",
        "    print(numero)"
      ],
      "metadata": {
        "id": "tN4TDW5FtwZ0",
        "colab": {
          "base_uri": "https://localhost:8080/"
        },
        "outputId": "c24c79fa-a84a-4a04-8f8a-7f036b057b34"
      },
      "execution_count": null,
      "outputs": [
        {
          "output_type": "stream",
          "name": "stdout",
          "text": [
            "0\n",
            "2\n",
            "4\n",
            "6\n",
            "8\n",
            "10\n",
            "12\n",
            "14\n",
            "16\n",
            "18\n",
            "20\n",
            "22\n",
            "24\n"
          ]
        }
      ]
    },
    {
      "cell_type": "markdown",
      "source": [
        "Q2. Crie um código que imprima na tela todos os números ímpares até 50."
      ],
      "metadata": {
        "id": "vFpVMDpQuBop"
      }
    },
    {
      "cell_type": "code",
      "source": [
        "for numero in range(50):\n",
        "  if numero % 2 != 0:\n",
        "    print(numero)"
      ],
      "metadata": {
        "id": "2gYFn1CtuIZH",
        "colab": {
          "base_uri": "https://localhost:8080/"
        },
        "outputId": "e577ab6e-f122-4bde-cf50-69f8996dbbb0"
      },
      "execution_count": null,
      "outputs": [
        {
          "output_type": "stream",
          "name": "stdout",
          "text": [
            "1\n",
            "3\n",
            "5\n",
            "7\n",
            "9\n",
            "11\n",
            "13\n",
            "15\n",
            "17\n",
            "19\n",
            "21\n",
            "23\n",
            "25\n",
            "27\n",
            "29\n",
            "31\n",
            "33\n",
            "35\n",
            "37\n",
            "39\n",
            "41\n",
            "43\n",
            "45\n",
            "47\n",
            "49\n"
          ]
        }
      ]
    },
    {
      "cell_type": "markdown",
      "source": [
        "Q3. Faça um programa em que o usuário deve digitar uma senha e confirmá-la, caso ambas as senhas não correspondam, uma mensagem de aviso deve ser impressa na tela e novamente o usuário deve ter a opção de confirmar a senha. Caso as\n",
        "senhas correspondam entre si, uma mensagem de sucesso deve ser impressa na tela."
      ],
      "metadata": {
        "id": "AFlGnGBauJEW"
      }
    },
    {
      "cell_type": "code",
      "source": [
        "senha = input('Digite uma senha: ')\n",
        "senha2 = input('Digite novamente a senha: ')\n",
        "\n",
        "while senha != senha2:\n",
        "  print('Senhas não correspondem')\n",
        "  senha2 = input('Digite novamente a senha: ')\n",
        "else:\n",
        "  print('Senhas equivalentes')"
      ],
      "metadata": {
        "id": "Qti2UkCSuVOS",
        "colab": {
          "base_uri": "https://localhost:8080/"
        },
        "outputId": "7b9417d3-d448-414c-80c2-156929b330d6"
      },
      "execution_count": null,
      "outputs": [
        {
          "output_type": "stream",
          "name": "stdout",
          "text": [
            "Digite uma senha: carro\n",
            "Digite novamente a senha: Carro\n",
            "Senhas não correspondem\n",
            "Digite novamente a senha: carros\n",
            "Senhas não correspondem\n",
            "Digite novamente a senha: carro\n",
            "Senhas equivalentes\n"
          ]
        }
      ]
    },
    {
      "cell_type": "markdown",
      "source": [
        "Q4. Faça um programa que conte de forma decrescente de 50 até 1."
      ],
      "metadata": {
        "id": "MuJfAysfuV5L"
      }
    },
    {
      "cell_type": "code",
      "source": [
        "lista = list(range(51))\n",
        "lista.sort(reverse = True)\n",
        "\n",
        "print(lista)"
      ],
      "metadata": {
        "id": "S6xzL282ubhv",
        "colab": {
          "base_uri": "https://localhost:8080/"
        },
        "outputId": "e5153909-2d9a-4e8b-87aa-a48dc9be40fa"
      },
      "execution_count": null,
      "outputs": [
        {
          "output_type": "stream",
          "name": "stdout",
          "text": [
            "[50, 49, 48, 47, 46, 45, 44, 43, 42, 41, 40, 39, 38, 37, 36, 35, 34, 33, 32, 31, 30, 29, 28, 27, 26, 25, 24, 23, 22, 21, 20, 19, 18, 17, 16, 15, 14, 13, 12, 11, 10, 9, 8, 7, 6, 5, 4, 3, 2, 1, 0]\n"
          ]
        }
      ]
    },
    {
      "cell_type": "markdown",
      "source": [
        "Q5. Crie um código que imprima na tela o quadrado dele mesmo dos números pares até 10."
      ],
      "metadata": {
        "id": "T0wca3JtucLj"
      }
    },
    {
      "cell_type": "code",
      "source": [
        "for numero in range(10):\n",
        "  if numero % 2 == 0:\n",
        "    print(numero ** 2)"
      ],
      "metadata": {
        "id": "tsoa8Vr9uggz",
        "colab": {
          "base_uri": "https://localhost:8080/"
        },
        "outputId": "a525ba5e-486e-4591-ea69-306df3cdb1b2"
      },
      "execution_count": null,
      "outputs": [
        {
          "output_type": "stream",
          "name": "stdout",
          "text": [
            "0\n",
            "4\n",
            "16\n",
            "36\n",
            "64\n"
          ]
        }
      ]
    },
    {
      "cell_type": "markdown",
      "source": [
        "Q6. Faça um programa que imprima na tela a tabuada do número que o usuário inserir (de 1 até 10)."
      ],
      "metadata": {
        "id": "INNdw-GNuhT2"
      }
    },
    {
      "cell_type": "code",
      "source": [
        "numero = int(input('Digite um numero: '))\n",
        "\n",
        "while numero > 10 or numero < 1:\n",
        "  numero = int(input('Digite um número: '))\n",
        "else:\n",
        "  for i in range(11):\n",
        "    print(numero,'x',i,'=',numero * i)"
      ],
      "metadata": {
        "id": "Q-WSapVSumAp",
        "colab": {
          "base_uri": "https://localhost:8080/"
        },
        "outputId": "b1a475ff-af25-40ba-e5f1-24f71d79419b"
      },
      "execution_count": null,
      "outputs": [
        {
          "output_type": "stream",
          "name": "stdout",
          "text": [
            "Digite um numero: 0\n",
            "Digite um número: 23\n",
            "Digite um número: 5\n",
            "5 x 0 = 0\n",
            "5 x 1 = 5\n",
            "5 x 2 = 10\n",
            "5 x 3 = 15\n",
            "5 x 4 = 20\n",
            "5 x 5 = 25\n",
            "5 x 6 = 30\n",
            "5 x 7 = 35\n",
            "5 x 8 = 40\n",
            "5 x 9 = 45\n",
            "5 x 10 = 50\n"
          ]
        }
      ]
    },
    {
      "cell_type": "markdown",
      "source": [
        "Q7. Faça um programa que receba 8 números e mostre na tela quantos são ímpares e quantos são pares."
      ],
      "metadata": {
        "id": "5QwH42xSumkI"
      }
    },
    {
      "cell_type": "code",
      "source": [
        "valores = []\n",
        "par = []\n",
        "impar = []\n",
        "\n",
        "for i in range(8):\n",
        "  valores.append(int(input('Digite um valor: ')))\n",
        "  if valores[i] % 2 == 0:\n",
        "    par.append(i)\n",
        "  else:\n",
        "    impar.append(i)\n",
        "\n",
        "print('valores ímpares: ',len(impar),'valores pares: ',len(par))"
      ],
      "metadata": {
        "id": "ysb1CcLWurT7",
        "colab": {
          "base_uri": "https://localhost:8080/"
        },
        "outputId": "2cc791e9-5428-4fb2-8e18-735ad3c8aea2"
      },
      "execution_count": null,
      "outputs": [
        {
          "output_type": "stream",
          "name": "stdout",
          "text": [
            "Digite um valor: 1\n",
            "Digite um valor: 2\n",
            "Digite um valor: 3\n",
            "Digite um valor: 4\n",
            "Digite um valor: 5\n",
            "Digite um valor: 6\n",
            "Digite um valor: 7\n",
            "Digite um valor: 8\n",
            "valores ímpares:  4 valores pares:  4\n"
          ]
        }
      ]
    },
    {
      "cell_type": "markdown",
      "source": [
        "Q8. Faça um programa que receba somente números entre 25 e 50. Caso o número inserido não esteja nesse intervalo, deverá ser mostrada uma mensagem de erro ao usuário e pedir para que um novo número seja inserido até que a condição seja satisfeita."
      ],
      "metadata": {
        "id": "gpQ05CpHusSG"
      }
    },
    {
      "cell_type": "code",
      "source": [
        "numero = int(input('Digite um numero: '))\n",
        "\n",
        "while numero > 50 or numero < 25:\n",
        "  print('Erro')\n",
        "  numero = int(input('Digite um número: '))\n",
        "else:\n",
        "  print('Condição Satisfeita')\n"
      ],
      "metadata": {
        "id": "aA1MxClPu6BU",
        "colab": {
          "base_uri": "https://localhost:8080/"
        },
        "outputId": "d93c307a-c61f-4095-c341-abfbbe1cc6f5"
      },
      "execution_count": null,
      "outputs": [
        {
          "output_type": "stream",
          "name": "stdout",
          "text": [
            "Digite um numero: 88\n",
            "Erro\n",
            "Digite um número: 45\n",
            "Condição Satisfeita\n"
          ]
        }
      ]
    },
    {
      "cell_type": "markdown",
      "source": [
        "Q9. Faça um programa que receba um número inteiro positivo e calcule seu fatorial."
      ],
      "metadata": {
        "id": "QR16RT4Tu6pN"
      }
    },
    {
      "cell_type": "code",
      "source": [
        "valor = int(input('Digite um valor: '))\n",
        "\n",
        "while valor < 0:\n",
        "  valor = int(input('Digite um valor: '))\n",
        "\n",
        "def fatorial(numero):\n",
        "  if numero == 0 or numero == 1:\n",
        "    return 1\n",
        "  else:\n",
        "    fat = numero * fatorial(numero - 1)\n",
        "    return fat\n",
        "\n",
        "print('O fatorial de ',valor, 'é', fatorial(valor))"
      ],
      "metadata": {
        "id": "WNTF9flGu8my",
        "colab": {
          "base_uri": "https://localhost:8080/"
        },
        "outputId": "0e735dd2-2119-47f7-febe-56f2cd256db8"
      },
      "execution_count": null,
      "outputs": [
        {
          "output_type": "stream",
          "name": "stdout",
          "text": [
            "Digite um valor: -5\n",
            "Digite um valor: 8\n",
            "O fatorial de  8 é 40320\n"
          ]
        }
      ]
    },
    {
      "cell_type": "markdown",
      "source": [
        "Q10. A Sequência de Fibonacci é uma sequência de números inteiros onde cada termo subsequente corresponde a soma dos dois anteriores. Faça um programa que mostre a sequência de Fibonacci dos valores entre 0 e 5000."
      ],
      "metadata": {
        "id": "GX1Vav_Ou9W3"
      }
    },
    {
      "cell_type": "code",
      "source": [
        "termo = 4\n",
        "\n",
        "def fibonacci(numero):\n",
        "    if numero <= 1:\n",
        "      return numero\n",
        "    else:\n",
        "      return fibonacci(numero-1)+fibonacci(numero-2)   \n",
        "    \n",
        "for i in range(20):\n",
        "  print(fibonacci(i))\n"
      ],
      "metadata": {
        "id": "NPHiaMi6vFrd",
        "colab": {
          "base_uri": "https://localhost:8080/"
        },
        "outputId": "46317848-9e3a-46a6-8715-fa8c421927d6"
      },
      "execution_count": null,
      "outputs": [
        {
          "output_type": "stream",
          "name": "stdout",
          "text": [
            "0\n",
            "1\n",
            "1\n",
            "2\n",
            "3\n",
            "5\n",
            "8\n",
            "13\n",
            "21\n",
            "34\n",
            "55\n",
            "89\n",
            "144\n",
            "233\n",
            "377\n",
            "610\n",
            "987\n",
            "1597\n",
            "2584\n",
            "4181\n"
          ]
        }
      ]
    }
  ]
}