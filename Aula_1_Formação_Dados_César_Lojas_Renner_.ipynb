{
  "nbformat": 4,
  "nbformat_minor": 0,
  "metadata": {
    "colab": {
      "name": "Aula 1 - Formação Dados César/Lojas Renner .ipynb",
      "provenance": [],
      "collapsed_sections": [],
      "toc_visible": true,
      "authorship_tag": "ABX9TyO81VyXddwrVUsvdvW9Lvv0",
      "include_colab_link": true
    },
    "kernelspec": {
      "name": "python3",
      "display_name": "Python 3"
    },
    "language_info": {
      "name": "python"
    }
  },
  "cells": [
    {
      "cell_type": "markdown",
      "metadata": {
        "id": "view-in-github",
        "colab_type": "text"
      },
      "source": [
        "<a href=\"https://colab.research.google.com/github/talitacgs/Python-Exercises/blob/main/Aula_1_Forma%C3%A7%C3%A3o_Dados_C%C3%A9sar_Lojas_Renner_.ipynb\" target=\"_parent\"><img src=\"https://colab.research.google.com/assets/colab-badge.svg\" alt=\"Open In Colab\"/></a>"
      ]
    },
    {
      "cell_type": "markdown",
      "source": [
        "# Exercícios Fundamentais da Aula 1\n"
      ],
      "metadata": {
        "id": "-g3_OfY68c2k"
      }
    },
    {
      "cell_type": "code",
      "source": [
        "# 1. Faça um programa que mostre a mensagem \"\" na tela\n",
        "\n",
        "print('\"\"')"
      ],
      "metadata": {
        "colab": {
          "base_uri": "https://localhost:8080/"
        },
        "id": "iin_Klr98h1B",
        "outputId": "78a1658b-7d83-4dc7-c785-8833a4422322"
      },
      "execution_count": null,
      "outputs": [
        {
          "output_type": "stream",
          "name": "stdout",
          "text": [
            "\"\"\n"
          ]
        }
      ]
    },
    {
      "cell_type": "code",
      "source": [
        "# 2. Faça um programa que peça um número e então mostre a mensagem O número informado foi [número]\n",
        "\n",
        "entrada = input('Digite um número:')\n",
        "print('O número informado foi:',entrada)"
      ],
      "metadata": {
        "colab": {
          "base_uri": "https://localhost:8080/"
        },
        "id": "nvgKLexM92JJ",
        "outputId": "57fb21e3-c04c-4a0c-e254-c1ea1b2573c9"
      },
      "execution_count": null,
      "outputs": [
        {
          "output_type": "stream",
          "name": "stdout",
          "text": [
            "Digite um número:9\n",
            "O número informado foi: 9\n"
          ]
        }
      ]
    },
    {
      "cell_type": "code",
      "source": [
        "# 3. Faça um programa que peça dois números e imprima a soma\n",
        "\n",
        "x = int(input('Digite um número:'))\n",
        "y = int(input('Digite outro número:'))\n",
        "\n",
        "print('A soma dos números é:', x + y)"
      ],
      "metadata": {
        "colab": {
          "base_uri": "https://localhost:8080/"
        },
        "id": "rT_pJrZi-cvA",
        "outputId": "78d97685-fad1-4c06-9157-1f2156722864"
      },
      "execution_count": null,
      "outputs": [
        {
          "output_type": "stream",
          "name": "stdout",
          "text": [
            "Digite um número:2\n",
            "Digite outro número:3\n",
            "A soma dos números é: 5\n"
          ]
        }
      ]
    },
    {
      "cell_type": "code",
      "source": [
        "# 4. Faça um programa que peça as 4 notas bimestrais e mostre a média.\n",
        "\n",
        "x = float(input('Digite a primeira nota:'))\n",
        "y = float(input('Digite a segunda nota:'))\n",
        "z = float(input('Digite a terceira nota:'))\n",
        "w = float(input('Digite a quarta nota:'))\n",
        "\n",
        "print(\"A média bimestral é:\", (x + y + z + w)/4)"
      ],
      "metadata": {
        "colab": {
          "base_uri": "https://localhost:8080/"
        },
        "id": "cdSOBZeD-ztW",
        "outputId": "5d9b0cf3-7206-4c10-add6-014bf1af3836"
      },
      "execution_count": null,
      "outputs": [
        {
          "output_type": "stream",
          "name": "stdout",
          "text": [
            "Digite a primeira nota:3.2\n",
            "Digite a segunda nota:6.7\n",
            "Digite a terceira nota:8.5\n",
            "Digite a quarta nota:9.7\n",
            "A média bimestral é: 7.0249999999999995\n"
          ]
        }
      ]
    },
    {
      "cell_type": "code",
      "source": [
        "# 5. Faça um programa que converta metros para centímetros.\n",
        "\n",
        "num1 = float(input('Digite a medida em metros:'))\n",
        "\n",
        "print('A medida em centímetros é:', num1*100,'cm')"
      ],
      "metadata": {
        "colab": {
          "base_uri": "https://localhost:8080/"
        },
        "id": "HZgJnE-fCHtX",
        "outputId": "eb7b4714-7cc1-49eb-967d-18a38645e45e"
      },
      "execution_count": null,
      "outputs": [
        {
          "output_type": "stream",
          "name": "stdout",
          "text": [
            "Digite a medida em metros:12\n",
            "A medida em centímetros é: 1200.0 cm\n"
          ]
        }
      ]
    },
    {
      "cell_type": "code",
      "source": [
        "# 6. Faça um programa que peça o raio de um círculo,\n",
        "# calcule e mostre sua área.\n",
        "\n",
        "raio = float(input('Qual o raio do círculo?'))\n",
        "\n",
        "print('A área do círculo é:', (3.14 * raio**2))"
      ],
      "metadata": {
        "colab": {
          "base_uri": "https://localhost:8080/"
        },
        "id": "yQwXw-qxDvmr",
        "outputId": "247c5839-05b4-43bb-b87d-08a8aebe7650"
      },
      "execution_count": null,
      "outputs": [
        {
          "output_type": "stream",
          "name": "stdout",
          "text": [
            "Qual o raio do círculo?4\n",
            "A área do círculo é: 50.24\n"
          ]
        }
      ]
    },
    {
      "cell_type": "code",
      "source": [
        "#7. Faça um programa que calcule a área de um quadrado, \n",
        "# em seguida mostre o dobro desta área para o usuário.\n",
        "\n",
        "lado = float(input('Qual a medida do lado do quadrado?'))\n",
        "\n",
        "print('O dobro da área do quadrado é:', 2*lado**2)"
      ],
      "metadata": {
        "colab": {
          "base_uri": "https://localhost:8080/"
        },
        "id": "aSIxdrdMEqJb",
        "outputId": "7126eff7-fffc-4168-a012-090b5ccbbc17"
      },
      "execution_count": null,
      "outputs": [
        {
          "output_type": "stream",
          "name": "stdout",
          "text": [
            "Qual a medida do lado do quadrado?10\n",
            "O dobro da área do quadrado é: 200.0\n"
          ]
        }
      ]
    },
    {
      "cell_type": "code",
      "source": [
        "#8. Faça um programa que pergunte quanto você ganha por hora e o número de horas\n",
        "# trabalhadas no mês. Calcule e mostre o total do seu salário no referido mês.\n",
        "\n",
        "dinheiro = float(input('Quanto você ganha por hora?'))\n",
        "horas = int(input('Quantas horas você trabalha por mês ?'))\n",
        "\n",
        "print('Seu salário mensal é de:', dinheiro * horas)"
      ],
      "metadata": {
        "colab": {
          "base_uri": "https://localhost:8080/"
        },
        "id": "wbDTfmNOFZtt",
        "outputId": "2dbacf70-1414-4039-9aad-1ba98dbf7eb7"
      },
      "execution_count": null,
      "outputs": [
        {
          "output_type": "stream",
          "name": "stdout",
          "text": [
            "Quanto você ganha por hora?13.5\n",
            "Quantas horas você trabalha por mês ?160\n",
            "Seu salário mensal é de: 2160.0\n"
          ]
        }
      ]
    },
    {
      "cell_type": "code",
      "source": [
        "#9.  Escreva um programa que substitui as ocorrencias de um caractere 0 em uma \n",
        "#string por outro caractere 1.\n",
        "\n",
        "txt = 'Já pensou em ter 1000000 de reais na sua conta ?'\n",
        "print(txt.replace('0','1'))"
      ],
      "metadata": {
        "colab": {
          "base_uri": "https://localhost:8080/"
        },
        "id": "KBNpc_jLGbTt",
        "outputId": "19310e45-1d4d-43dd-f4a7-e7c26a926931"
      },
      "execution_count": null,
      "outputs": [
        {
          "output_type": "stream",
          "name": "stdout",
          "text": [
            "Já pensou em ter 1111111 de reais na sua conta ?\n"
          ]
        }
      ]
    },
    {
      "cell_type": "code",
      "source": [
        "#10. Faça um programa que receba do usuario uma string. \n",
        "#O programa imprime a string sem suas vogais.\n",
        "\n",
        "nome = str(input('Digite seu nome completo:'))\n",
        "print('Olha seu nome sem vogais:',nome.replace('a','').replace('e','').replace('i','').replace('o','').replace('u',''))"
      ],
      "metadata": {
        "colab": {
          "base_uri": "https://localhost:8080/"
        },
        "id": "EObd_8n5H1H4",
        "outputId": "62bfc6ba-edba-454c-f371-a1b1870cf82b"
      },
      "execution_count": null,
      "outputs": [
        {
          "output_type": "stream",
          "name": "stdout",
          "text": [
            "Digite seu nome completo:Talita Cavalcanti Gomes dos Santos\n",
            "Olha seu nome sem vogais: Tlt Cvlcnt Gms ds Snts\n"
          ]
        }
      ]
    }
  ]
}