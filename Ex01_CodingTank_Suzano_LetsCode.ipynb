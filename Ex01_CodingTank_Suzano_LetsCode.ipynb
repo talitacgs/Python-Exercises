{
  "nbformat": 4,
  "nbformat_minor": 0,
  "metadata": {
    "colab": {
      "name": "Ex01_CodingTank_Suzano_LetsCode.ipynb",
      "provenance": [],
      "authorship_tag": "ABX9TyM/KqABS3rofcyej4WGKtfP"
    },
    "kernelspec": {
      "name": "python3",
      "display_name": "Python 3"
    },
    "language_info": {
      "name": "python"
    }
  },
  "cells": [
    {
      "cell_type": "markdown",
      "source": [
        "01. Enunciado\n",
        "Faça um programa que mostre a mensagem \"Olá, mundo!\" na tela."
      ],
      "metadata": {
        "id": "C1B7f6ETBgQn"
      }
    },
    {
      "cell_type": "code",
      "execution_count": null,
      "metadata": {
        "colab": {
          "base_uri": "https://localhost:8080/"
        },
        "id": "vkQLUXbnBdYS",
        "outputId": "e93e8b8c-003c-4267-a0a9-0354aa36d037"
      },
      "outputs": [
        {
          "output_type": "stream",
          "name": "stdout",
          "text": [
            "Olá, mundo!\n"
          ]
        }
      ],
      "source": [
        "print(\"Olá, mundo!\")"
      ]
    },
    {
      "cell_type": "markdown",
      "source": [
        "02. Faça um programa que peça um número e mostre a mensagem \"O número informado foi [número]\"."
      ],
      "metadata": {
        "id": "qaud9IpXBn4i"
      }
    },
    {
      "cell_type": "code",
      "source": [
        "number = int(input(\"Digite o seu número de telefone: \"))\n",
        "print(f\"O número informado foi {number}.\")"
      ],
      "metadata": {
        "colab": {
          "base_uri": "https://localhost:8080/"
        },
        "id": "E5L8pkgxBqgk",
        "outputId": "445f7271-7cb0-46e9-e76d-44de2e6924f2"
      },
      "execution_count": null,
      "outputs": [
        {
          "output_type": "stream",
          "name": "stdout",
          "text": [
            "Digite o seu número de telefone: 123123\n",
            "O número informado foi 123123.\n"
          ]
        }
      ]
    },
    {
      "cell_type": "markdown",
      "source": [
        "03. Faça um programa que peça um número para o usuário (string), converta-o para float e depois imprima-o na tela. Você consegue fazer a mesma coisa, porém convertendo para int?"
      ],
      "metadata": {
        "id": "jwjFEwT2Bvnr"
      }
    },
    {
      "cell_type": "code",
      "source": [
        "number = input(\"Digite um número: \")\n",
        "number_float = float(number)\n",
        "number_int = int(number)\n",
        "\n",
        "print(number_float)\n",
        "print(number_int)"
      ],
      "metadata": {
        "colab": {
          "base_uri": "https://localhost:8080/"
        },
        "id": "CcJMzrGEBxYc",
        "outputId": "57e2442e-e6a4-4248-8bcd-5a8b97d51d95"
      },
      "execution_count": null,
      "outputs": [
        {
          "output_type": "stream",
          "name": "stdout",
          "text": [
            "Digite um número: 123\n",
            "123.0\n",
            "123\n"
          ]
        }
      ]
    },
    {
      "cell_type": "markdown",
      "source": [
        "04. Faça um programa que peça dois números inteiros e imprima a soma deles."
      ],
      "metadata": {
        "id": "K3QUciyzCU0I"
      }
    },
    {
      "cell_type": "code",
      "source": [
        "first_number = int(input(\"Digite um número: \"))\n",
        "second_number = int(input(\"Digite outro número: \"))\n",
        "\n",
        "print(first_number + second_number)"
      ],
      "metadata": {
        "colab": {
          "base_uri": "https://localhost:8080/"
        },
        "id": "rG4KV9ZmCWUY",
        "outputId": "1c0dac2d-98e6-4939-c5e1-88a5d445f683"
      },
      "execution_count": null,
      "outputs": [
        {
          "output_type": "stream",
          "name": "stdout",
          "text": [
            "Digite um número: 12\n",
            "Digite outro número: 12\n",
            "24\n"
          ]
        }
      ]
    },
    {
      "cell_type": "markdown",
      "source": [
        "05. Faça um programa que peça as 4 notas bimestrais de um aluno e mostre a média aritmética delas."
      ],
      "metadata": {
        "id": "Si5UTn-CC0BH"
      }
    },
    {
      "cell_type": "code",
      "source": [
        "first_grade = float(input(\"Digite a primeira nota: \"))\n",
        "second_grade = float(input(\"Digite a segunda nota: \"))\n",
        "third_grade = float(input(\"Digite a terceira nota: \"))\n",
        "fourth_grade = float(input(\"Digite a quarta nota: \"))\n",
        "\n",
        "average = round((first_grade + second_grade + third_grade + fourth_grade) / 4 , 2)\n",
        "print(f\"A média é {average}\")"
      ],
      "metadata": {
        "colab": {
          "base_uri": "https://localhost:8080/"
        },
        "id": "6wnJBVswC0m-",
        "outputId": "103534b4-7076-4460-9bfd-48f4cd175a34"
      },
      "execution_count": null,
      "outputs": [
        {
          "output_type": "stream",
          "name": "stdout",
          "text": [
            "Digite a primeira nota: 2\n",
            "Digite a segunda nota: 3\n",
            "Digite a terceira nota: 4\n",
            "Digite a quarta nota: 4\n",
            "A média é 3.25\n"
          ]
        }
      ]
    },
    {
      "cell_type": "markdown",
      "source": [
        "06. Faça um programa que peça o raio de um círculo, calcule e mostre sua área.\n",
        "\n",
        "Obs: Fórmula da área de um círculo: A = 3,14*(r**2), onde r é o raio."
      ],
      "metadata": {
        "id": "tfJ0Ob4eEJOu"
      }
    },
    {
      "cell_type": "code",
      "source": [
        "radius = float(input(\"Digite o raio da circunferência: \"))\n",
        "area = 3.14*(radius ** 2)\n",
        "\n",
        "print(f\"A área do círculo é: {area}\")"
      ],
      "metadata": {
        "colab": {
          "base_uri": "https://localhost:8080/"
        },
        "id": "53ubkoVrELDn",
        "outputId": "a23ce3ee-64c9-48f1-a6f8-275f65872145"
      },
      "execution_count": null,
      "outputs": [
        {
          "output_type": "stream",
          "name": "stdout",
          "text": [
            "Digite o raio da circunferência: 4.5\n",
            "A área do círculo é: 63.585\n"
          ]
        }
      ]
    },
    {
      "cell_type": "markdown",
      "source": [
        "07. Faça um programa que pergunte quanto você ganha por hora e o número de horas trabalhadas no mês e depois, calcule e mostre o total do seu salário no referido mês."
      ],
      "metadata": {
        "id": "qiIvVOsYFW1G"
      }
    },
    {
      "cell_type": "code",
      "source": [
        "money = float(input(\"Digite quanto você ganha por hora: R$ \"))\n",
        "hours = float(input(\"Digite quantas horas você trabalha no mês: \"))\n",
        "\n",
        "salary = round(money * hours, 2)\n",
        "\n",
        "print(f\"Seu salário mensal é R$ {salary} reais\")"
      ],
      "metadata": {
        "colab": {
          "base_uri": "https://localhost:8080/"
        },
        "id": "oYfFjCYtFZQg",
        "outputId": "c0c0fb2d-bdcb-4205-d99b-9ed680119cb5"
      },
      "execution_count": null,
      "outputs": [
        {
          "output_type": "stream",
          "name": "stdout",
          "text": [
            "Digite quanto você ganha por hora: R$ 17.8\n",
            "Digite quantas horas você trabalha no mês: 89\n",
            "Seu salário mensal é R$ 1584.2 reais\n"
          ]
        }
      ]
    },
    {
      "cell_type": "markdown",
      "source": [
        "08. Faça um programa que peça a temperatura em graus Fahrenheit (F), transforme e mostre a temperatura em graus Celsius (°C).\n",
        "\n",
        "°C = (5 * (F-32) / 9)\n",
        "\n",
        "Obs: Tente também fazer um programa que faça o inverso: peça a temperatura em graus Celsius e a transforme em graus Fahrenheit."
      ],
      "metadata": {
        "id": "AUcN11ZRG8YC"
      }
    },
    {
      "cell_type": "code",
      "source": [
        "fahrenheit = float(input(\"Digite a temperatura em Fahrenheit: \"))\n",
        "celsius = round((5 * (fahrenheit - 32)) / 9, 2)\n",
        "\n",
        "print(f\"A temperatura em celsius é {celsius} °C.\")\n",
        "\n",
        "celsius_temp = float(input(\"Digite a temperatura em Celsius: \"))\n",
        "fahrenheit_temp = round((celsius_temp * 1.8) + 32, 2)\n",
        "\n",
        "print(f\"A temperatura em fahrenheit é {fahrenheit_temp} °F.\")"
      ],
      "metadata": {
        "colab": {
          "base_uri": "https://localhost:8080/"
        },
        "id": "mNCd2HnMG7_x",
        "outputId": "7e9920bc-0520-4555-e62c-4cde71cca486"
      },
      "execution_count": null,
      "outputs": [
        {
          "output_type": "stream",
          "name": "stdout",
          "text": [
            "Digite a temperatura em Fahrenheit: 234\n",
            "A temperatura em celsius é 112.22 °C.\n",
            "Digite a temperatura em Celsius: 36\n",
            "A temperatura em fahrenheit é 96.8 °F.\n"
          ]
        }
      ]
    },
    {
      "cell_type": "markdown",
      "source": [
        "09. Faça um programa que peça o dia, o mês e o ano para o usuário e imprima a data completa no formato dd/mm/aaaa."
      ],
      "metadata": {
        "id": "2cOwAWYiKcQb"
      }
    },
    {
      "cell_type": "code",
      "source": [
        "day = input(\"Digite um dia: \")\n",
        "month = input(\"Digite um mês: \")\n",
        "year = input(\"Digite um ano: \")\n",
        "\n",
        "print(f\"{day}/{month}/{year}\")"
      ],
      "metadata": {
        "colab": {
          "base_uri": "https://localhost:8080/"
        },
        "id": "oIZ7TyHAKiMa",
        "outputId": "cac58706-7028-470e-af5d-543f6b36d829"
      },
      "execution_count": null,
      "outputs": [
        {
          "output_type": "stream",
          "name": "stdout",
          "text": [
            "Digite um dia: 12\n",
            "Digite um mês: 08\n",
            "Digite um ano: 1995\n",
            "12/08/1995\n"
          ]
        }
      ]
    },
    {
      "cell_type": "markdown",
      "source": [
        "10. Faça um programa que peça 2 números inteiros e um número real, calcule e mostre:\n",
        "\n",
        "a) o produto do dobro do primeiro com metade do segundo.\n",
        "\n",
        "b) a soma do triplo do primeiro com o terceiro.\n",
        "\n",
        "c) o terceiro elevado ao cubo."
      ],
      "metadata": {
        "id": "SHk_JluyLQTL"
      }
    },
    {
      "cell_type": "code",
      "source": [
        "int_one = int(input(\"Digite um número inteiro: \"))\n",
        "int_two = int(input(\"Digite outro número inteiro: \"))\n",
        "float_number = float(input(\"Digite um número real: \"))\n",
        "\n",
        "answer_a = (int_one * 2) * (int_two / 2)\n",
        "answer_b = (int_one * 3) + float_number\n",
        "answer_c = float_number ** 3\n",
        "\n",
        "print(f\"a) {answer_a}\")\n",
        "print(f\"b) {answer_b}\")\n",
        "print(f\"c) {answer_c}\")"
      ],
      "metadata": {
        "colab": {
          "base_uri": "https://localhost:8080/"
        },
        "id": "UaRzxf0aLVv7",
        "outputId": "9d4e54df-c694-4a5f-8731-39fcfe542525"
      },
      "execution_count": null,
      "outputs": [
        {
          "output_type": "stream",
          "name": "stdout",
          "text": [
            "Digite um número inteiro: 4\n",
            "Digite outro número inteiro: 5\n",
            "Digite um número real: 1\n",
            "a) 20.0\n",
            "b) 13.0\n",
            "c) 1.0\n"
          ]
        }
      ]
    },
    {
      "cell_type": "markdown",
      "source": [
        "11. Faça um programa que peça o peso e altura de uma pessoa e calcule seu IMC (Índice de Massa Corporal).\n",
        "\n",
        "Obs: IMC = Peso/Altura**2"
      ],
      "metadata": {
        "id": "IICvEZhzNWVz"
      }
    },
    {
      "cell_type": "code",
      "source": [
        "height = float(input(\"Digite a altura em metros: \"))\n",
        "weight = float(input(\"Digite o peso em Kg: \"))\n",
        "\n",
        "BMI = round(weight / (height ** 2), 2)\n",
        "\n",
        "print(BMI)"
      ],
      "metadata": {
        "colab": {
          "base_uri": "https://localhost:8080/"
        },
        "id": "aj1gMOvtNZcl",
        "outputId": "97bbc6a6-1ec7-4854-8e43-622371442f77"
      },
      "execution_count": null,
      "outputs": [
        {
          "output_type": "stream",
          "name": "stdout",
          "text": [
            "Digite a altura em metros: 1.58\n",
            "Digite o peso em Kg: 49\n",
            "19.63\n"
          ]
        }
      ]
    },
    {
      "cell_type": "markdown",
      "source": [
        "12. Faça um programa que peça um valor monetário e aumente-o em 15%. Seu programa deve imprimir a mensagem “O novo valor é [valor]”."
      ],
      "metadata": {
        "id": "fndB5aPhOLHN"
      }
    },
    {
      "cell_type": "code",
      "source": [
        "value = float(input(\"Digite um valor monetário: \"))\n",
        "new_value = round(value * 1.15, 2)\n",
        "\n",
        "print(f\"O novo valor é {new_value}\")"
      ],
      "metadata": {
        "colab": {
          "base_uri": "https://localhost:8080/"
        },
        "id": "r36fjwSNONRe",
        "outputId": "b55879fb-0c71-4730-ef43-8bf67b59d82a"
      },
      "execution_count": null,
      "outputs": [
        {
          "output_type": "stream",
          "name": "stdout",
          "text": [
            "Digite um valor monetário: 100\n",
            "O novo valor é 115.0\n"
          ]
        }
      ]
    },
    {
      "cell_type": "markdown",
      "source": [
        "13. Faça um programa que peça um valor monetário e diminua-o em 15%. Seu programa deve imprimir a mensagem “O novo valor é [valor]”."
      ],
      "metadata": {
        "id": "h5OKDmHrO4B2"
      }
    },
    {
      "cell_type": "code",
      "source": [
        "value = float(input(\"Digite um valor monetário: \"))\n",
        "new_value = round(value * 0.85, 2)\n",
        "\n",
        "print(f\"O novo valor é {new_value}\")"
      ],
      "metadata": {
        "colab": {
          "base_uri": "https://localhost:8080/"
        },
        "id": "57pxEou0O6iy",
        "outputId": "7d9e1370-f149-403c-caec-66317b2e4d92"
      },
      "execution_count": null,
      "outputs": [
        {
          "output_type": "stream",
          "name": "stdout",
          "text": [
            "Digite um valor monetário: 100\n",
            "O novo valor é 85.0\n"
          ]
        }
      ]
    },
    {
      "cell_type": "markdown",
      "source": [
        "Desafio 01 . Peça para o usuário digitar uma velocidade inicial (em m/s), uma posição inicial (em m) e um instante de tempo (em s) e imprima a posição de um projétil nesse instante de tempo.\n",
        "\n",
        "Use a fórmula matemática:\n",
        "\n",
        "y(t) = y(0) + v(0)*t + (g*(t**2)/2)\n",
        "\n",
        "Onde, g é a aceleração da gravidade (-10m/s²), y(t) é a posição final, y(0) é a posição inicial, v(0) é a velocidade inicial e t é o instante de tempo."
      ],
      "metadata": {
        "id": "7xC8IeKpPJqU"
      }
    },
    {
      "cell_type": "code",
      "source": [
        "speed_zero = float(input(\"Digite uma velocidade inicial (em m/s): \"))\n",
        "position_zero = float(input(\"Digite uma posição inicial (em m): \"))\n",
        "time_zero = float(input(\"Digite um tempo (em s): \"))\n",
        "\n",
        "final_position = round(position_zero + (speed_zero * time_zero) + ((-10)*(time_zero ** 2) / 2) , 2)\n",
        "\n",
        "print(f\"A posição do projétil nesse instante de tempo é {final_position} metros.\")"
      ],
      "metadata": {
        "colab": {
          "base_uri": "https://localhost:8080/"
        },
        "id": "7KfJF4OgPGbW",
        "outputId": "fa17ae1d-0050-4bb2-d62c-3a1db7de144f"
      },
      "execution_count": null,
      "outputs": [
        {
          "output_type": "stream",
          "name": "stdout",
          "text": [
            "Digite uma velocidade inicial (em m/s): 34\n",
            "Digite uma posição inicial (em m): 2\n",
            "Digite um tempo (em s): 2\n",
            "A posição do projétil nesse instante de tempo é 50.0 metros.\n"
          ]
        }
      ]
    },
    {
      "cell_type": "markdown",
      "source": [
        "Desafio 02. Faça um programa que informe a data e a hora para o usuário. Para isso use a função datetime.now() do módulo datetime."
      ],
      "metadata": {
        "id": "IV7UdhT5RLIw"
      }
    },
    {
      "cell_type": "code",
      "source": [
        "from datetime import datetime, timezone, timedelta\n",
        "\n",
        "date = datetime.now()\n",
        "diferenca = timedelta(hours=-3)\n",
        "fuso_horario = timezone(diferenca)\n",
        "\n",
        "date_timezone = date.astimezone(fuso_horario)\n",
        "\n",
        "print(date_timezone.strftime(\"%d/%m/%Y %I:%M:%S %p\"))\n"
      ],
      "metadata": {
        "colab": {
          "base_uri": "https://localhost:8080/"
        },
        "id": "9RnheHkZROOK",
        "outputId": "f597ee32-6ac7-4c14-c126-48c8e8210bcd"
      },
      "execution_count": null,
      "outputs": [
        {
          "output_type": "stream",
          "name": "stdout",
          "text": [
            "18/08/2022 04:48:48 PM\n"
          ]
        }
      ]
    }
  ]
}