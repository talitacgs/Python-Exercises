{
  "nbformat": 4,
  "nbformat_minor": 0,
  "metadata": {
    "colab": {
      "name": "Aula3 - Formação Dados César/Lojas Renner.ipynb",
      "provenance": [],
      "collapsed_sections": [],
      "toc_visible": true,
      "authorship_tag": "ABX9TyPBh1/1fZTcHlziw6JQY9IS",
      "include_colab_link": true
    },
    "kernelspec": {
      "name": "python3",
      "display_name": "Python 3"
    },
    "language_info": {
      "name": "python"
    }
  },
  "cells": [
    {
      "cell_type": "markdown",
      "metadata": {
        "id": "view-in-github",
        "colab_type": "text"
      },
      "source": [
        "<a href=\"https://colab.research.google.com/github/talitacgs/Python-Exercises/blob/main/Aula3_Forma%C3%A7%C3%A3o_Dados_C%C3%A9sar_Lojas_Renner.ipynb\" target=\"_parent\"><img src=\"https://colab.research.google.com/assets/colab-badge.svg\" alt=\"Open In Colab\"/></a>"
      ]
    },
    {
      "cell_type": "markdown",
      "source": [
        "#Exercícios Fundamentais 3 "
      ],
      "metadata": {
        "id": "V_4m9CZoPMWM"
      }
    },
    {
      "cell_type": "code",
      "execution_count": null,
      "metadata": {
        "colab": {
          "base_uri": "https://localhost:8080/"
        },
        "id": "z_4FkTYu-79B",
        "outputId": "c5fe04d4-1b82-48c2-e656-d13448f991ff"
      },
      "outputs": [
        {
          "output_type": "stream",
          "name": "stdout",
          "text": [
            "[1, 3, 5, 7, 9, 11, 13, 15, 17, 19, 21, 23, 25, 27, 29, 31, 33, 35, 37, 39, 41, 43, 45, 47, 49]\n"
          ]
        }
      ],
      "source": [
        "#1. Faça um programa que imprima na tela apenas os números ímpares entre 1 e 50.\n",
        "\n",
        "lista = (range(1,51,2))\n",
        "\n",
        "print(list(lista))\n"
      ]
    },
    {
      "cell_type": "code",
      "source": [
        "#2. Faça um programa que leia 5 números e informe o maior número.\n",
        "\n",
        "num=[]\n",
        "\n",
        "for i in range(5):\n",
        "  num.append(int(input('Digite um número:')))\n",
        "\n",
        "print('O maior número é:',max(num)) \n"
      ],
      "metadata": {
        "colab": {
          "base_uri": "https://localhost:8080/"
        },
        "id": "DPYkH4vaPb6h",
        "outputId": "6b43c9d8-db8a-4716-b05f-0f1bd027843d"
      },
      "execution_count": null,
      "outputs": [
        {
          "output_type": "stream",
          "name": "stdout",
          "text": [
            "Digite um número:2\n",
            "Digite um número:3\n",
            "Digite um número:4\n",
            "Digite um número:5\n",
            "Digite um número:6\n",
            "O maior número é: 6\n"
          ]
        }
      ]
    },
    {
      "cell_type": "code",
      "source": [
        "#3. Escreva um programa que receba um numero n, e logo após, receba n itens populando uma lista.\n",
        "#E imprima no final cada um desses itens na ordem oposta em que foram inseridos\n",
        "\n",
        "itens=[]\n",
        "\n",
        "num = int(input(print('Digite um valor:')))\n",
        "\n",
        "for i in range(num):\n",
        "  itens.append(str(input('Digite os itens:')))\n",
        "\n",
        "itens.reverse()\n",
        "print(itens)\n"
      ],
      "metadata": {
        "colab": {
          "base_uri": "https://localhost:8080/"
        },
        "id": "m_-5UHZGPmBb",
        "outputId": "9efa431a-6650-447d-f378-4f0f4666cab3"
      },
      "execution_count": null,
      "outputs": [
        {
          "output_type": "stream",
          "name": "stdout",
          "text": [
            "Digite um valor:\n",
            "3\n",
            "Digite os itens:a\n",
            "Digite os itens:g\n",
            "Digite os itens:h\n",
            "['h', 'g', 'a']\n"
          ]
        }
      ]
    },
    {
      "cell_type": "code",
      "source": [
        "#4. Faça um programa que recebe um número de 1 a 10 do usuário e imprime a tabuada de multiplicação desse número\n",
        "\n",
        "num = int(input(print('Digite um número:')))\n",
        "\n",
        "\n",
        "while num<1 or num>10:\n",
        "  num= int(input(print('Digite um número:')))\n",
        "\n",
        "for i in range (10):\n",
        "  print(num,'x',i,'=',num*i)"
      ],
      "metadata": {
        "colab": {
          "base_uri": "https://localhost:8080/"
        },
        "id": "OWDkSOp2Pse_",
        "outputId": "82af07a3-5190-41f9-9e6b-2820f5c6a1a6"
      },
      "execution_count": null,
      "outputs": [
        {
          "output_type": "stream",
          "name": "stdout",
          "text": [
            "Digite um número:\n",
            "3\n",
            "3 x 0 = 0\n",
            "3 x 1 = 3\n",
            "3 x 2 = 6\n",
            "3 x 3 = 9\n",
            "3 x 4 = 12\n",
            "3 x 5 = 15\n",
            "3 x 6 = 18\n",
            "3 x 7 = 21\n",
            "3 x 8 = 24\n",
            "3 x 9 = 27\n"
          ]
        }
      ]
    },
    {
      "cell_type": "code",
      "source": [
        "#5. Imagine que você tem um problema no qual precisa somar todos os números\n",
        "#múltiplos de 3 até 1000, ou até a soma ultrapassar 300. Se caso o número\n",
        "#seja múltiplo de 3 deve ser exibido \"Buscando...\". Mas caso o número seja\n",
        "#múltiplo de 5, nada deve ser exibido.\n",
        "\n",
        "soma = 0\n",
        "contador = 0\n",
        "while soma<=300:\n",
        "  for i in range (0,1000):\n",
        "    if (i%3 == 0):\n",
        "      if(i%5 !=0):\n",
        "      # while soma<=300:\n",
        "        soma += i\n",
        "        contador += 1\n",
        "        print(i,contador,soma,'Buscando ... ')"
      ],
      "metadata": {
        "id": "AxFVBw4kPyCe"
      },
      "execution_count": null,
      "outputs": []
    }
  ]
}