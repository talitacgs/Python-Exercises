{
  "nbformat": 4,
  "nbformat_minor": 0,
  "metadata": {
    "colab": {
      "name": "Ex03_CodingTank_Suzano_LetsCode.ipynb",
      "provenance": [],
      "authorship_tag": "ABX9TyOKVshpYbK+JN7GcoIPBpRi",
      "include_colab_link": true
    },
    "kernelspec": {
      "name": "python3",
      "display_name": "Python 3"
    },
    "language_info": {
      "name": "python"
    }
  },
  "cells": [
    {
      "cell_type": "markdown",
      "metadata": {
        "id": "view-in-github",
        "colab_type": "text"
      },
      "source": [
        "<a href=\"https://colab.research.google.com/github/talitacgs/Python-Exercises/blob/main/Ex03_CodingTank_Suzano_LetsCode.ipynb\" target=\"_parent\"><img src=\"https://colab.research.google.com/assets/colab-badge.svg\" alt=\"Open In Colab\"/></a>"
      ]
    },
    {
      "cell_type": "markdown",
      "source": [
        "01. Faça um programa que peça ao usuário um número e imprima todos os números de um até o número dado.\n",
        "\n",
        "Exemplo:\n",
        "\n",
        "digite: 5\n",
        "\n",
        "imprime: 1 2 3 4 5"
      ],
      "metadata": {
        "id": "q0RSZgwghise"
      }
    },
    {
      "cell_type": "code",
      "execution_count": null,
      "metadata": {
        "colab": {
          "base_uri": "https://localhost:8080/"
        },
        "id": "xw8ca37qhLqK",
        "outputId": "24c29c60-fdee-4cd1-89c5-2250024907cf"
      },
      "outputs": [
        {
          "output_type": "stream",
          "name": "stdout",
          "text": [
            "Digite um número: 5\n",
            "1 2 3 4 5 "
          ]
        }
      ],
      "source": [
        "contador = 1\n",
        "numero = int(input(\"Digite um número: \"))\n",
        "\n",
        "while contador <= numero:\n",
        "  print(contador, end=\" \")\n",
        "  contador += 1"
      ]
    },
    {
      "cell_type": "markdown",
      "source": [
        "02. Peça ao usuário para digitar um número e imprima o fatorial de n.\n",
        "\n"
      ],
      "metadata": {
        "id": "Ta1KmBxWk0Xv"
      }
    },
    {
      "cell_type": "code",
      "source": [
        "numero = int(input(\"Digite um numero: \"))\n",
        "\n",
        "while numero != 0:\n",
        "  print(numero)\n",
        "  numero -= 1\n"
      ],
      "metadata": {
        "colab": {
          "base_uri": "https://localhost:8080/"
        },
        "id": "V-d-SAGSlCs3",
        "outputId": "87cbf58f-d4ba-423f-fe72-6bbfad992a3e"
      },
      "execution_count": null,
      "outputs": [
        {
          "output_type": "stream",
          "name": "stdout",
          "text": [
            "Digite um numero: 10\n",
            "10\n",
            "9\n",
            "8\n",
            "7\n",
            "6\n",
            "5\n",
            "4\n",
            "3\n",
            "2\n",
            "1\n"
          ]
        }
      ]
    },
    {
      "cell_type": "markdown",
      "source": [
        "03. Peça ao usuário para digitar um número N e some todos os números de 1 a N utilizando o laço de repetição while."
      ],
      "metadata": {
        "id": "AVJtKOIOlJXB"
      }
    },
    {
      "cell_type": "code",
      "source": [
        "numero_n = int(input(\"Digite um número: \"))\n",
        "contador = 1\n",
        "soma = 0\n",
        "\n",
        "while contador <= numero_n:\n",
        "  soma += contador\n",
        "  contador += 1\n",
        "\n",
        "print(f\"A soma total é {soma}\")\n"
      ],
      "metadata": {
        "id": "hZJVCbv8lF6l",
        "colab": {
          "base_uri": "https://localhost:8080/"
        },
        "outputId": "e77c36ef-9a47-4f94-c634-9ec6d53a882e"
      },
      "execution_count": 4,
      "outputs": [
        {
          "output_type": "stream",
          "name": "stdout",
          "text": [
            "Digite um número: 3\n",
            "A soma total é 6\n"
          ]
        }
      ]
    },
    {
      "cell_type": "markdown",
      "source": [
        "04. Faça um programa que imprima a tabuada do 9 (de 9 * 1 a 9 * 10) usando loops."
      ],
      "metadata": {
        "id": "V8JrOcga8enL"
      }
    },
    {
      "cell_type": "code",
      "source": [
        "n = 1\n",
        "\n",
        "while n < 11:\n",
        "  multi = 9 * n \n",
        "  print(f\"9 x {n} = {multi}\")\n",
        "  n +=1"
      ],
      "metadata": {
        "colab": {
          "base_uri": "https://localhost:8080/"
        },
        "id": "LVT5sbW78j5p",
        "outputId": "57a28314-af32-4f52-86c2-50c22db68374"
      },
      "execution_count": null,
      "outputs": [
        {
          "output_type": "stream",
          "name": "stdout",
          "text": [
            "9 x 1 = 9\n",
            "9 x 2 = 18\n",
            "9 x 3 = 27\n",
            "9 x 4 = 36\n",
            "9 x 5 = 45\n",
            "9 x 6 = 54\n",
            "9 x 7 = 63\n",
            "9 x 8 = 72\n",
            "9 x 9 = 81\n",
            "9 x 10 = 90\n"
          ]
        }
      ]
    },
    {
      "cell_type": "markdown",
      "source": [
        "05. Faça um programa, usando loops, que peça para um usuário digitar um número e que só finaliza quando o usuário digitar 0. Ao final imprima a soma de todos os números digitados."
      ],
      "metadata": {
        "id": "Kqv0WC4w_rvQ"
      }
    },
    {
      "cell_type": "code",
      "source": [
        "key = True\n",
        "somatorio = 0\n",
        "\n",
        "while key:\n",
        "  num = int(input(\"Digite um número: \"))\n",
        "  somatorio += num\n",
        "\n",
        "  if num == 0:\n",
        "    key = False\n",
        "\n",
        "print(somatorio)"
      ],
      "metadata": {
        "colab": {
          "base_uri": "https://localhost:8080/"
        },
        "id": "dx7LL7ZV_rMP",
        "outputId": "406feeea-b738-4213-ccfa-3af25b2260f5"
      },
      "execution_count": null,
      "outputs": [
        {
          "output_type": "stream",
          "name": "stdout",
          "text": [
            "Digite um número: 3\n",
            "Digite um número: 5\n",
            "Digite um número: 0\n",
            "8\n"
          ]
        }
      ]
    },
    {
      "cell_type": "markdown",
      "source": [
        "06. Faça um programa que sorteia um número N e peça para o usuário adivinhar o número sorteado. A cada resposta errada, o seu programa deve imprimir um aviso dizendo que a resposta está errada e pedir novamente uma resposta ao usuário.\n",
        "\n",
        "Para a realização desse exercício, utilize alguma função da biblioteca random (e.g. randint())."
      ],
      "metadata": {
        "id": "vyM2yjMGCWFO"
      }
    },
    {
      "cell_type": "code",
      "source": [
        "import random\n",
        "\n",
        "game_continue = True\n",
        "numero_random = random.randint(1,100)\n",
        "print(numero_random)\n",
        "\n",
        "while game_continue:\n",
        "  numero_usuario = int(input(\"Escolha um número de 1 a 100: \"))\n",
        "  \n",
        "  if numero_usuario != numero_random:\n",
        "    print(\"Resposta Errada\")\n",
        "  else:\n",
        "    game_continue = False \n",
        "    print(\"Parabéns !! \")"
      ],
      "metadata": {
        "colab": {
          "base_uri": "https://localhost:8080/"
        },
        "id": "ynngFrkTCaZ4",
        "outputId": "ebc0461e-83fc-4c9c-c57f-a6685dd0867b"
      },
      "execution_count": null,
      "outputs": [
        {
          "output_type": "stream",
          "name": "stdout",
          "text": [
            "41\n",
            "Escolha um número de 1 a 100: 50\n",
            "Resposta Errada\n",
            "Escolha um número de 1 a 100: 41\n",
            "Parabéns !! \n"
          ]
        }
      ]
    },
    {
      "cell_type": "markdown",
      "source": [
        "07. Faça um programa que peça para o usuário digitar a idade, o salário e o sexo de uma pessoa até que as entradas digitadas sejam válidas.\n",
        "\n",
        "a. Idade: entre 0 e 150;\n",
        "\n",
        "b. Salário: maior que 0;\n",
        "\n",
        "c. Sexo: M, F ou Outro."
      ],
      "metadata": {
        "id": "SZtTMXl_HjmZ"
      }
    },
    {
      "cell_type": "code",
      "source": [
        "idade_key = True\n",
        "salario_key = True\n",
        "genero_key = True\n",
        "\n",
        "while idade_key: \n",
        "  idade = int(input(\"Digite a sua idade: \"))\n",
        "  if idade > 0 and idade < 150:\n",
        "    idade_key = False\n",
        "    print(f\"Sua idade é {idade}\")\n",
        "\n",
        "while salario_key:\n",
        "  salario = float(input(\"Digite o seu salário: R$ \"))\n",
        "  if salario > 0:\n",
        "    salario_key = False\n",
        "    print(f\"Seu salário é de R$ {salario} reais\")\n",
        "\n",
        "while genero_key:\n",
        "  sexo = input(\"Digite o seu sexo Masculino, Feminino ou Outro: \").lower()\n",
        "  if sexo == 'feminino' or sexo == 'masculino' or sexo == 'outro':\n",
        "    genero_key = False\n",
        "    print(f\"Seu gênero é {sexo}\")\n"
      ],
      "metadata": {
        "colab": {
          "base_uri": "https://localhost:8080/"
        },
        "id": "ntsoI9ZuHoHM",
        "outputId": "6132e36c-ebf3-4855-aab7-7275c8c30675"
      },
      "execution_count": null,
      "outputs": [
        {
          "output_type": "stream",
          "name": "stdout",
          "text": [
            "Digite a sua idade: 154\n",
            "Digite a sua idade: 15555\n",
            "Digite a sua idade: 27\n",
            "Sua idade é 27\n",
            "Digite o seu salário: R$ 0\n",
            "Digite o seu salário: R$ 1\n",
            "Seu salário é de R$ 1.0 reais\n",
            "Digite o seu sexo Masculino, Feminino ou Outro: ghjgf\n",
            "Digite o seu sexo Masculino, Feminino ou Outro: 5641\n",
            "Digite o seu sexo Masculino, Feminino ou Outro: feminie\n",
            "Digite o seu sexo Masculino, Feminino ou Outro: feminino\n",
            "Seu gênero é feminino\n"
          ]
        }
      ]
    },
    {
      "cell_type": "markdown",
      "source": [
        "08. Desafio! - Calcule a soma de até mil termos da série 1 + 1/2 + 1/4 + 1/8 + 1/16 + ...\n",
        "\n",
        "Dica: Use três variáveis:\n",
        "\n",
        "• um contador, que começa em zero;\n",
        "\n",
        "• uma variável para a soma de todos os termos, que também começa em zero;\n",
        "\n",
        "• uma variável para cada termo, que começa em 1 e a cada loop é dividida por 2.\n",
        "\n",
        "A repetição da soma de mil termos pode ser feita com a função while contador < 1000."
      ],
      "metadata": {
        "id": "g6omHgtZ9uZJ"
      }
    },
    {
      "cell_type": "code",
      "source": [
        "contador = 0\n",
        "soma_total = 0\n",
        "termo = 1\n",
        "\n",
        "while contador < 1000:\n",
        "  soma_total += termo\n",
        "  termo /= 2\n",
        "  contador += 1\n",
        "\n",
        "print(soma_total)"
      ],
      "metadata": {
        "colab": {
          "base_uri": "https://localhost:8080/"
        },
        "id": "ZNUbOtr-9y4l",
        "outputId": "33824264-c8d8-494b-df02-b44c21c251df"
      },
      "execution_count": null,
      "outputs": [
        {
          "output_type": "stream",
          "name": "stdout",
          "text": [
            "2.0\n"
          ]
        }
      ]
    },
    {
      "cell_type": "markdown",
      "source": [
        "09. Super Desafio! - Calcule a soma de mil termos dos inversos dos fatoriais: 1/(1!) + 1/(2!) + 1/(3!) + 1/(4!) + ...\n",
        "\n",
        "Dica: Assim como no exercício anterior use três variáveis: um contador; uma variável para a soma; e uma variável para os termos. Lembre-se de que 4! = 4*3*2*1 que também é igual a 4*3!."
      ],
      "metadata": {
        "id": "pQW9fylh_l-e"
      }
    },
    {
      "cell_type": "code",
      "source": [
        "contador = 0 \n",
        "resultado = 1\n",
        "soma = 0\n",
        "\n",
        "while contador < 1000:\n",
        "  contador += 1\n",
        "  resultado *= contador\n",
        "  soma += 1/resultado\n",
        "\n",
        "\n",
        "print(soma)"
      ],
      "metadata": {
        "id": "G1OcI3XC_lV3",
        "colab": {
          "base_uri": "https://localhost:8080/"
        },
        "outputId": "9860b21b-137b-40d1-afee-3da0c2d1a4f8"
      },
      "execution_count": 9,
      "outputs": [
        {
          "output_type": "stream",
          "name": "stdout",
          "text": [
            "1.7182818284590455\n"
          ]
        }
      ]
    }
  ]
}